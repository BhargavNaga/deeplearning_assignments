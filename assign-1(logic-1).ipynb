{
 "cells": [
  {
   "cell_type": "markdown",
   "metadata": {},
   "source": [
    "## Question 1\n",
    "\n",
    "Implement the Perceptron algorithm from scratch in Python.\n",
    "- Initialize the weights with [0 0 0] and a learning rate of 0.0001.\n",
    "- For each iteration, calculate the output of the Perceptron for each input in the training set.\n",
    "- Use MSE to computer the error for all samples\n",
    "- Update the weights using the gradient descent procedure.\n",
    "- Repeat the above steps until the Perceptron converges or a maximum number of iterations is reached.\n",
    "- Test the trained Perceptron on a separate test set.\n",
    "- Use the step function as an activation function in the output layer\n",
    "\n",
    "\n",
    "Use the IRIS Dataset for the above, considering all the four features : sepal length, sepal width, petal length, and petal width, but only two classes -  Setosa, Versicolor.  Drop the feature vectors of the other class. \n",
    "Please find the dataset below.\n",
    "\n",
    "NOTE - Do not use inbuilt functions for perceptron."
   ]
  },
  {
   "cell_type": "code",
   "execution_count": 18,
   "metadata": {},
   "outputs": [],
   "source": [
    "# import the required modules\n",
    "import numpy as np\n",
    "import matplotlib.pyplot as plt\n",
    "import pandas as pd"
   ]
  },
  {
   "cell_type": "code",
   "execution_count": 19,
   "metadata": {},
   "outputs": [
    {
     "data": {
      "text/html": [
       "<div>\n",
       "<style scoped>\n",
       "    .dataframe tbody tr th:only-of-type {\n",
       "        vertical-align: middle;\n",
       "    }\n",
       "\n",
       "    .dataframe tbody tr th {\n",
       "        vertical-align: top;\n",
       "    }\n",
       "\n",
       "    .dataframe thead th {\n",
       "        text-align: right;\n",
       "    }\n",
       "</style>\n",
       "<table border=\"1\" class=\"dataframe\">\n",
       "  <thead>\n",
       "    <tr style=\"text-align: right;\">\n",
       "      <th></th>\n",
       "      <th>Id</th>\n",
       "      <th>SepalLengthCm</th>\n",
       "      <th>SepalWidthCm</th>\n",
       "      <th>PetalLengthCm</th>\n",
       "      <th>PetalWidthCm</th>\n",
       "      <th>Species</th>\n",
       "    </tr>\n",
       "  </thead>\n",
       "  <tbody>\n",
       "    <tr>\n",
       "      <th>0</th>\n",
       "      <td>1</td>\n",
       "      <td>5.1</td>\n",
       "      <td>3.5</td>\n",
       "      <td>1.4</td>\n",
       "      <td>0.2</td>\n",
       "      <td>Iris-setosa</td>\n",
       "    </tr>\n",
       "    <tr>\n",
       "      <th>1</th>\n",
       "      <td>2</td>\n",
       "      <td>4.9</td>\n",
       "      <td>3.0</td>\n",
       "      <td>1.4</td>\n",
       "      <td>0.2</td>\n",
       "      <td>Iris-setosa</td>\n",
       "    </tr>\n",
       "    <tr>\n",
       "      <th>2</th>\n",
       "      <td>3</td>\n",
       "      <td>4.7</td>\n",
       "      <td>3.2</td>\n",
       "      <td>1.3</td>\n",
       "      <td>0.2</td>\n",
       "      <td>Iris-setosa</td>\n",
       "    </tr>\n",
       "    <tr>\n",
       "      <th>3</th>\n",
       "      <td>4</td>\n",
       "      <td>4.6</td>\n",
       "      <td>3.1</td>\n",
       "      <td>1.5</td>\n",
       "      <td>0.2</td>\n",
       "      <td>Iris-setosa</td>\n",
       "    </tr>\n",
       "    <tr>\n",
       "      <th>4</th>\n",
       "      <td>5</td>\n",
       "      <td>5.0</td>\n",
       "      <td>3.6</td>\n",
       "      <td>1.4</td>\n",
       "      <td>0.2</td>\n",
       "      <td>Iris-setosa</td>\n",
       "    </tr>\n",
       "    <tr>\n",
       "      <th>...</th>\n",
       "      <td>...</td>\n",
       "      <td>...</td>\n",
       "      <td>...</td>\n",
       "      <td>...</td>\n",
       "      <td>...</td>\n",
       "      <td>...</td>\n",
       "    </tr>\n",
       "    <tr>\n",
       "      <th>145</th>\n",
       "      <td>146</td>\n",
       "      <td>6.7</td>\n",
       "      <td>3.0</td>\n",
       "      <td>5.2</td>\n",
       "      <td>2.3</td>\n",
       "      <td>Iris-virginica</td>\n",
       "    </tr>\n",
       "    <tr>\n",
       "      <th>146</th>\n",
       "      <td>147</td>\n",
       "      <td>6.3</td>\n",
       "      <td>2.5</td>\n",
       "      <td>5.0</td>\n",
       "      <td>1.9</td>\n",
       "      <td>Iris-virginica</td>\n",
       "    </tr>\n",
       "    <tr>\n",
       "      <th>147</th>\n",
       "      <td>148</td>\n",
       "      <td>6.5</td>\n",
       "      <td>3.0</td>\n",
       "      <td>5.2</td>\n",
       "      <td>2.0</td>\n",
       "      <td>Iris-virginica</td>\n",
       "    </tr>\n",
       "    <tr>\n",
       "      <th>148</th>\n",
       "      <td>149</td>\n",
       "      <td>6.2</td>\n",
       "      <td>3.4</td>\n",
       "      <td>5.4</td>\n",
       "      <td>2.3</td>\n",
       "      <td>Iris-virginica</td>\n",
       "    </tr>\n",
       "    <tr>\n",
       "      <th>149</th>\n",
       "      <td>150</td>\n",
       "      <td>5.9</td>\n",
       "      <td>3.0</td>\n",
       "      <td>5.1</td>\n",
       "      <td>1.8</td>\n",
       "      <td>Iris-virginica</td>\n",
       "    </tr>\n",
       "  </tbody>\n",
       "</table>\n",
       "<p>150 rows × 6 columns</p>\n",
       "</div>"
      ],
      "text/plain": [
       "      Id  SepalLengthCm  SepalWidthCm  PetalLengthCm  PetalWidthCm   \n",
       "0      1            5.1           3.5            1.4           0.2  \\\n",
       "1      2            4.9           3.0            1.4           0.2   \n",
       "2      3            4.7           3.2            1.3           0.2   \n",
       "3      4            4.6           3.1            1.5           0.2   \n",
       "4      5            5.0           3.6            1.4           0.2   \n",
       "..   ...            ...           ...            ...           ...   \n",
       "145  146            6.7           3.0            5.2           2.3   \n",
       "146  147            6.3           2.5            5.0           1.9   \n",
       "147  148            6.5           3.0            5.2           2.0   \n",
       "148  149            6.2           3.4            5.4           2.3   \n",
       "149  150            5.9           3.0            5.1           1.8   \n",
       "\n",
       "            Species  \n",
       "0       Iris-setosa  \n",
       "1       Iris-setosa  \n",
       "2       Iris-setosa  \n",
       "3       Iris-setosa  \n",
       "4       Iris-setosa  \n",
       "..              ...  \n",
       "145  Iris-virginica  \n",
       "146  Iris-virginica  \n",
       "147  Iris-virginica  \n",
       "148  Iris-virginica  \n",
       "149  Iris-virginica  \n",
       "\n",
       "[150 rows x 6 columns]"
      ]
     },
     "execution_count": 19,
     "metadata": {},
     "output_type": "execute_result"
    }
   ],
   "source": [
    "# import the dataset\n",
    "dataset = pd.read_csv('iris.csv')\n",
    "\n",
    "dataset"
   ]
  },
  {
   "cell_type": "code",
   "execution_count": 20,
   "metadata": {},
   "outputs": [
    {
     "data": {
      "text/plain": [
       "array(['Iris-setosa', 'Iris-versicolor', 'Iris-virginica'], dtype=object)"
      ]
     },
     "execution_count": 20,
     "metadata": {},
     "output_type": "execute_result"
    }
   ],
   "source": [
    "# get all the unique species\n",
    "dataset['Species'].unique()"
   ]
  },
  {
   "cell_type": "code",
   "execution_count": 21,
   "metadata": {},
   "outputs": [
    {
     "data": {
      "text/html": [
       "<div>\n",
       "<style scoped>\n",
       "    .dataframe tbody tr th:only-of-type {\n",
       "        vertical-align: middle;\n",
       "    }\n",
       "\n",
       "    .dataframe tbody tr th {\n",
       "        vertical-align: top;\n",
       "    }\n",
       "\n",
       "    .dataframe thead th {\n",
       "        text-align: right;\n",
       "    }\n",
       "</style>\n",
       "<table border=\"1\" class=\"dataframe\">\n",
       "  <thead>\n",
       "    <tr style=\"text-align: right;\">\n",
       "      <th></th>\n",
       "      <th>Id</th>\n",
       "      <th>SepalLengthCm</th>\n",
       "      <th>SepalWidthCm</th>\n",
       "      <th>PetalLengthCm</th>\n",
       "      <th>PetalWidthCm</th>\n",
       "      <th>Species</th>\n",
       "    </tr>\n",
       "  </thead>\n",
       "  <tbody>\n",
       "    <tr>\n",
       "      <th>0</th>\n",
       "      <td>1</td>\n",
       "      <td>5.1</td>\n",
       "      <td>3.5</td>\n",
       "      <td>1.4</td>\n",
       "      <td>0.2</td>\n",
       "      <td>Iris-setosa</td>\n",
       "    </tr>\n",
       "    <tr>\n",
       "      <th>1</th>\n",
       "      <td>2</td>\n",
       "      <td>4.9</td>\n",
       "      <td>3.0</td>\n",
       "      <td>1.4</td>\n",
       "      <td>0.2</td>\n",
       "      <td>Iris-setosa</td>\n",
       "    </tr>\n",
       "    <tr>\n",
       "      <th>2</th>\n",
       "      <td>3</td>\n",
       "      <td>4.7</td>\n",
       "      <td>3.2</td>\n",
       "      <td>1.3</td>\n",
       "      <td>0.2</td>\n",
       "      <td>Iris-setosa</td>\n",
       "    </tr>\n",
       "    <tr>\n",
       "      <th>3</th>\n",
       "      <td>4</td>\n",
       "      <td>4.6</td>\n",
       "      <td>3.1</td>\n",
       "      <td>1.5</td>\n",
       "      <td>0.2</td>\n",
       "      <td>Iris-setosa</td>\n",
       "    </tr>\n",
       "    <tr>\n",
       "      <th>4</th>\n",
       "      <td>5</td>\n",
       "      <td>5.0</td>\n",
       "      <td>3.6</td>\n",
       "      <td>1.4</td>\n",
       "      <td>0.2</td>\n",
       "      <td>Iris-setosa</td>\n",
       "    </tr>\n",
       "    <tr>\n",
       "      <th>...</th>\n",
       "      <td>...</td>\n",
       "      <td>...</td>\n",
       "      <td>...</td>\n",
       "      <td>...</td>\n",
       "      <td>...</td>\n",
       "      <td>...</td>\n",
       "    </tr>\n",
       "    <tr>\n",
       "      <th>95</th>\n",
       "      <td>96</td>\n",
       "      <td>5.7</td>\n",
       "      <td>3.0</td>\n",
       "      <td>4.2</td>\n",
       "      <td>1.2</td>\n",
       "      <td>Iris-versicolor</td>\n",
       "    </tr>\n",
       "    <tr>\n",
       "      <th>96</th>\n",
       "      <td>97</td>\n",
       "      <td>5.7</td>\n",
       "      <td>2.9</td>\n",
       "      <td>4.2</td>\n",
       "      <td>1.3</td>\n",
       "      <td>Iris-versicolor</td>\n",
       "    </tr>\n",
       "    <tr>\n",
       "      <th>97</th>\n",
       "      <td>98</td>\n",
       "      <td>6.2</td>\n",
       "      <td>2.9</td>\n",
       "      <td>4.3</td>\n",
       "      <td>1.3</td>\n",
       "      <td>Iris-versicolor</td>\n",
       "    </tr>\n",
       "    <tr>\n",
       "      <th>98</th>\n",
       "      <td>99</td>\n",
       "      <td>5.1</td>\n",
       "      <td>2.5</td>\n",
       "      <td>3.0</td>\n",
       "      <td>1.1</td>\n",
       "      <td>Iris-versicolor</td>\n",
       "    </tr>\n",
       "    <tr>\n",
       "      <th>99</th>\n",
       "      <td>100</td>\n",
       "      <td>5.7</td>\n",
       "      <td>2.8</td>\n",
       "      <td>4.1</td>\n",
       "      <td>1.3</td>\n",
       "      <td>Iris-versicolor</td>\n",
       "    </tr>\n",
       "  </tbody>\n",
       "</table>\n",
       "<p>100 rows × 6 columns</p>\n",
       "</div>"
      ],
      "text/plain": [
       "     Id  SepalLengthCm  SepalWidthCm  PetalLengthCm  PetalWidthCm   \n",
       "0     1            5.1           3.5            1.4           0.2  \\\n",
       "1     2            4.9           3.0            1.4           0.2   \n",
       "2     3            4.7           3.2            1.3           0.2   \n",
       "3     4            4.6           3.1            1.5           0.2   \n",
       "4     5            5.0           3.6            1.4           0.2   \n",
       "..  ...            ...           ...            ...           ...   \n",
       "95   96            5.7           3.0            4.2           1.2   \n",
       "96   97            5.7           2.9            4.2           1.3   \n",
       "97   98            6.2           2.9            4.3           1.3   \n",
       "98   99            5.1           2.5            3.0           1.1   \n",
       "99  100            5.7           2.8            4.1           1.3   \n",
       "\n",
       "            Species  \n",
       "0       Iris-setosa  \n",
       "1       Iris-setosa  \n",
       "2       Iris-setosa  \n",
       "3       Iris-setosa  \n",
       "4       Iris-setosa  \n",
       "..              ...  \n",
       "95  Iris-versicolor  \n",
       "96  Iris-versicolor  \n",
       "97  Iris-versicolor  \n",
       "98  Iris-versicolor  \n",
       "99  Iris-versicolor  \n",
       "\n",
       "[100 rows x 6 columns]"
      ]
     },
     "execution_count": 21,
     "metadata": {},
     "output_type": "execute_result"
    }
   ],
   "source": [
    "# consider only iris-setosa and iris-versicolor\n",
    "dataset = dataset[dataset['Species'] != 'Iris-virginica']\n",
    "\n",
    "dataset"
   ]
  },
  {
   "cell_type": "code",
   "execution_count": 22,
   "metadata": {},
   "outputs": [],
   "source": [
    "# X is a feature vector that contains sepal length, sepal width, petal length, and petal width \n",
    "X = dataset.iloc[:, 1:5].values\n",
    "\n",
    "# y is a vector that contains the species of the flowers\n",
    "y = dataset.iloc[:, -1].values\n",
    "\n"
   ]
  },
  {
   "cell_type": "code",
   "execution_count": 23,
   "metadata": {},
   "outputs": [
    {
     "name": "stdout",
     "output_type": "stream",
     "text": [
      "(100, 4)\n",
      "[[5.1 3.5 1.4 0.2]\n",
      " [4.9 3.  1.4 0.2]\n",
      " [4.7 3.2 1.3 0.2]\n",
      " [4.6 3.1 1.5 0.2]\n",
      " [5.  3.6 1.4 0.2]]\n",
      "(100,)\n",
      "['Iris-setosa' 'Iris-setosa' 'Iris-setosa' 'Iris-setosa' 'Iris-setosa']\n"
     ]
    }
   ],
   "source": [
    "print(X.shape)\n",
    "print(X[0:5])\n",
    "print(y.shape)\n",
    "print(y[0:5])"
   ]
  },
  {
   "cell_type": "code",
   "execution_count": 24,
   "metadata": {},
   "outputs": [
    {
     "data": {
      "text/plain": [
       "<matplotlib.legend.Legend at 0x1e2d73b7100>"
      ]
     },
     "execution_count": 24,
     "metadata": {},
     "output_type": "execute_result"
    },
    {
     "data": {
      "image/png": "[encoded data removed]",
      "text/plain": [
       "<Figure size 640x480 with 1 Axes>"
      ]
     },
     "metadata": {},
     "output_type": "display_data"
    }
   ],
   "source": [
    "# plot the 2 features of the flowers\n",
    "plt.scatter(X[y == 'Iris-setosa', 0], X[y == 'Iris-setosa', 1], color = 'red', label = 'Iris-setosa')\n",
    "plt.scatter(X[y == 'Iris-versicolor', 0], X[y == 'Iris-versicolor', 1], color = 'blue', label = 'Iris-versicolor')\n",
    "plt.title('Iris Dataset')\n",
    "plt.xlabel('Sepal Length')\n",
    "plt.ylabel('Sepal Width')\n",
    "plt.legend()"
   ]
  },
  {
   "cell_type": "code",
   "execution_count": 25,
   "metadata": {},
   "outputs": [
    {
     "data": {
      "text/plain": [
       "array([0, 0, 0, 0, 0, 0, 0, 0, 0, 0, 0, 0, 0, 0, 0, 0, 0, 0, 0, 0, 0, 0,\n",
       "       0, 0, 0, 0, 0, 0, 0, 0, 0, 0, 0, 0, 0, 0, 0, 0, 0, 0, 0, 0, 0, 0,\n",
       "       0, 0, 0, 0, 0, 0, 1, 1, 1, 1, 1, 1, 1, 1, 1, 1, 1, 1, 1, 1, 1, 1,\n",
       "       1, 1, 1, 1, 1, 1, 1, 1, 1, 1, 1, 1, 1, 1, 1, 1, 1, 1, 1, 1, 1, 1,\n",
       "       1, 1, 1, 1, 1, 1, 1, 1, 1, 1, 1, 1])"
      ]
     },
     "execution_count": 25,
     "metadata": {},
     "output_type": "execute_result"
    }
   ],
   "source": [
    "# we define the class labels to be 0 and 1\n",
    "\n",
    "# split the 2 classes with +1 and -1 labels\n",
    "y = np.where(y == 'Iris-setosa', 0, 1)\n",
    "\n",
    "y"
   ]
  },
  {
   "cell_type": "code",
   "execution_count": 26,
   "metadata": {},
   "outputs": [],
   "source": [
    "# training set\n",
    "X_train = np.concatenate((X[:40], X[50:90]))\n",
    "y_train = np.concatenate((y[:40], y[50:90]))\n",
    "\n",
    "# testing set\n",
    "X_test = np.concatenate((X[40:50], X[90:]))\n",
    "y_test = np.concatenate((y[40:50], y[90:]))"
   ]
  },
  {
   "cell_type": "code",
   "execution_count": 27,
   "metadata": {},
   "outputs": [
    {
     "data": {
      "text/plain": [
       "array([[1. , 5.1, 3.5, 1.4, 0.2],\n",
       "       [1. , 4.9, 3. , 1.4, 0.2],\n",
       "       [1. , 4.7, 3.2, 1.3, 0.2],\n",
       "       [1. , 4.6, 3.1, 1.5, 0.2],\n",
       "       [1. , 5. , 3.6, 1.4, 0.2],\n",
       "       [1. , 5.4, 3.9, 1.7, 0.4],\n",
       "       [1. , 4.6, 3.4, 1.4, 0.3],\n",
       "       [1. , 5. , 3.4, 1.5, 0.2],\n",
       "       [1. , 4.4, 2.9, 1.4, 0.2],\n",
       "       [1. , 4.9, 3.1, 1.5, 0.1],\n",
       "       [1. , 5.4, 3.7, 1.5, 0.2],\n",
       "       [1. , 4.8, 3.4, 1.6, 0.2],\n",
       "       [1. , 4.8, 3. , 1.4, 0.1],\n",
       "       [1. , 4.3, 3. , 1.1, 0.1],\n",
       "       [1. , 5.8, 4. , 1.2, 0.2],\n",
       "       [1. , 5.7, 4.4, 1.5, 0.4],\n",
       "       [1. , 5.4, 3.9, 1.3, 0.4],\n",
       "       [1. , 5.1, 3.5, 1.4, 0.3],\n",
       "       [1. , 5.7, 3.8, 1.7, 0.3],\n",
       "       [1. , 5.1, 3.8, 1.5, 0.3],\n",
       "       [1. , 5.4, 3.4, 1.7, 0.2],\n",
       "       [1. , 5.1, 3.7, 1.5, 0.4],\n",
       "       [1. , 4.6, 3.6, 1. , 0.2],\n",
       "       [1. , 5.1, 3.3, 1.7, 0.5],\n",
       "       [1. , 4.8, 3.4, 1.9, 0.2],\n",
       "       [1. , 5. , 3. , 1.6, 0.2],\n",
       "       [1. , 5. , 3.4, 1.6, 0.4],\n",
       "       [1. , 5.2, 3.5, 1.5, 0.2],\n",
       "       [1. , 5.2, 3.4, 1.4, 0.2],\n",
       "       [1. , 4.7, 3.2, 1.6, 0.2],\n",
       "       [1. , 4.8, 3.1, 1.6, 0.2],\n",
       "       [1. , 5.4, 3.4, 1.5, 0.4],\n",
       "       [1. , 5.2, 4.1, 1.5, 0.1],\n",
       "       [1. , 5.5, 4.2, 1.4, 0.2],\n",
       "       [1. , 4.9, 3.1, 1.5, 0.1],\n",
       "       [1. , 5. , 3.2, 1.2, 0.2],\n",
       "       [1. , 5.5, 3.5, 1.3, 0.2],\n",
       "       [1. , 4.9, 3.1, 1.5, 0.1],\n",
       "       [1. , 4.4, 3. , 1.3, 0.2],\n",
       "       [1. , 5.1, 3.4, 1.5, 0.2],\n",
       "       [1. , 7. , 3.2, 4.7, 1.4],\n",
       "       [1. , 6.4, 3.2, 4.5, 1.5],\n",
       "       [1. , 6.9, 3.1, 4.9, 1.5],\n",
       "       [1. , 5.5, 2.3, 4. , 1.3],\n",
       "       [1. , 6.5, 2.8, 4.6, 1.5],\n",
       "       [1. , 5.7, 2.8, 4.5, 1.3],\n",
       "       [1. , 6.3, 3.3, 4.7, 1.6],\n",
       "       [1. , 4.9, 2.4, 3.3, 1. ],\n",
       "       [1. , 6.6, 2.9, 4.6, 1.3],\n",
       "       [1. , 5.2, 2.7, 3.9, 1.4],\n",
       "       [1. , 5. , 2. , 3.5, 1. ],\n",
       "       [1. , 5.9, 3. , 4.2, 1.5],\n",
       "       [1. , 6. , 2.2, 4. , 1. ],\n",
       "       [1. , 6.1, 2.9, 4.7, 1.4],\n",
       "       [1. , 5.6, 2.9, 3.6, 1.3],\n",
       "       [1. , 6.7, 3.1, 4.4, 1.4],\n",
       "       [1. , 5.6, 3. , 4.5, 1.5],\n",
       "       [1. , 5.8, 2.7, 4.1, 1. ],\n",
       "       [1. , 6.2, 2.2, 4.5, 1.5],\n",
       "       [1. , 5.6, 2.5, 3.9, 1.1],\n",
       "       [1. , 5.9, 3.2, 4.8, 1.8],\n",
       "       [1. , 6.1, 2.8, 4. , 1.3],\n",
       "       [1. , 6.3, 2.5, 4.9, 1.5],\n",
       "       [1. , 6.1, 2.8, 4.7, 1.2],\n",
       "       [1. , 6.4, 2.9, 4.3, 1.3],\n",
       "       [1. , 6.6, 3. , 4.4, 1.4],\n",
       "       [1. , 6.8, 2.8, 4.8, 1.4],\n",
       "       [1. , 6.7, 3. , 5. , 1.7],\n",
       "       [1. , 6. , 2.9, 4.5, 1.5],\n",
       "       [1. , 5.7, 2.6, 3.5, 1. ],\n",
       "       [1. , 5.5, 2.4, 3.8, 1.1],\n",
       "       [1. , 5.5, 2.4, 3.7, 1. ],\n",
       "       [1. , 5.8, 2.7, 3.9, 1.2],\n",
       "       [1. , 6. , 2.7, 5.1, 1.6],\n",
       "       [1. , 5.4, 3. , 4.5, 1.5],\n",
       "       [1. , 6. , 3.4, 4.5, 1.6],\n",
       "       [1. , 6.7, 3.1, 4.7, 1.5],\n",
       "       [1. , 6.3, 2.3, 4.4, 1.3],\n",
       "       [1. , 5.6, 3. , 4.1, 1.3],\n",
       "       [1. , 5.5, 2.5, 4. , 1.3]])"
      ]
     },
     "execution_count": 27,
     "metadata": {},
     "output_type": "execute_result"
    }
   ],
   "source": [
    "# Augmenting the feature vector with 1\n",
    "X_train = np.concatenate((np.ones((len(X_train), 1)), X_train), axis = 1)\n",
    "X_test = np.concatenate((np.ones((len(X_test), 1)), X_test), axis = 1)\n",
    "\n",
    "X_train"
   ]
  },
  {
   "cell_type": "code",
   "execution_count": 28,
   "metadata": {},
   "outputs": [
    {
     "data": {
      "text/plain": [
       "array([0, 0, 0, 0, 0, 0, 0, 0, 0, 0, 0, 0, 0, 0, 0, 0, 0, 0, 0, 0, 0, 0,\n",
       "       0, 0, 0, 0, 0, 0, 0, 0, 0, 0, 0, 0, 0, 0, 0, 0, 0, 0, 1, 1, 1, 1,\n",
       "       1, 1, 1, 1, 1, 1, 1, 1, 1, 1, 1, 1, 1, 1, 1, 1, 1, 1, 1, 1, 1, 1,\n",
       "       1, 1, 1, 1, 1, 1, 1, 1, 1, 1, 1, 1, 1, 1])"
      ]
     },
     "execution_count": 28,
     "metadata": {},
     "output_type": "execute_result"
    }
   ],
   "source": [
    "y_train"
   ]
  },
  {
   "cell_type": "code",
   "execution_count": 29,
   "metadata": {},
   "outputs": [
    {
     "data": {
      "text/plain": [
       "array([0., 0., 0., 0., 0.])"
      ]
     },
     "execution_count": 29,
     "metadata": {},
     "output_type": "execute_result"
    }
   ],
   "source": [
    "# initialize the weights to zeros \n",
    "W = np.zeros(X_train.shape[1])\n",
    "\n",
    "lr = 0.0001\n",
    "\n",
    "W"
   ]
  },
  {
   "cell_type": "markdown",
   "metadata": {},
   "source": [
    "Suppose that the perceptron is defined by the weights $W=(w_1,w_2,w_3, w_4, w_5)$,which can initially be zero, and we have the input vector $X_i=(x_{i1},x_{i2},x_{i3}, x_{i4}, 1)$, for i=1,…,n, where n is the size of the training dataset, which can be defined as D={(X1,t1),…,(Xn,tn)}. \n",
    "\n",
    "Then, for the ith pair of the training dataset D, the output of the perceptron is defined as a linear combination\n",
    "\n",
    "$$y_i=W⋅X_i$$\n",
    "\n",
    "where $y_i$ is the output of the perceptron for the training example $X_i$. \n",
    "\n",
    "The loss for the training example $(X_i,t_i)$ can be defined as follows\n",
    "\n",
    "$$MSE(X_i,t_i)=(y_i−t_i)2=(W⋅X_i−t_i)^2=((w_1.x_{i1}+w_2⋅x_{i2}+w_3⋅x_{i3} + w_4⋅x_{i4} + w_5)−ti)^2$$\n",
    "\n",
    "To update the weights W , we need to find the partial derivative of $MSE(X_i,t_i)$ with respect to each weight, $w_1 , w_2, w_3$ and $w_4$ . The gradient of $MSE(X_i,t_i)$ , denoted by $\\nabla_W \\operatorname{MSE}(X_i, t_i)$ , that is, the vector containing the partial derivatives of $MSE(X_i,t_i)$ with respect to each element of $W , w_1 , w_2, w_3, w_4, w_5$, can be calculated as follows\n",
    "\n",
    "\\begin{align}\n",
    "\\nabla_W \\operatorname{MSE}(X_i, t_i) \n",
    "&= \n",
    "\\begin{bmatrix} \n",
    "\\frac{\\partial \\operatorname{MSE}(X_i, t_i) }{ w_1}\\\\\n",
    "\\frac{\\partial \\operatorname{MSE}(X_i, t_i) }{ w_2}\\\\\n",
    "\\frac{\\partial \\operatorname{MSE}(X_i, t_i) }{ w_3}\\\\\n",
    "\\frac{\\partial \\operatorname{MSE}(X_i, t_i) }{ w_4} \\\\\n",
    "\\frac{\\partial \\operatorname{MSE}(X_i, t_i) }{ w_5}\n",
    "\\end{bmatrix}\\\\\n",
    "&= \n",
    "\\begin{bmatrix} \n",
    "2((w_1 x_{i1} + w_2 \\cdot x_{i2} + w_3 \\cdot x_{i3} + w_4 \\cdot x_{i4} + w_5) - t_i) \\frac{\\partial}{w_1} (w_1 x_{i1} + w_2 \\cdot x_{i2} + w_3 \\cdot x_{i3} + w_4 \\cdot x_{i4} + w_5)\\\\\n",
    "2((w_1 x_{i1} + w_2 \\cdot x_{i2} + w_3 \\cdot x_{i3} + w_4 \\cdot x_{i4} + w_5) - t_i) \\frac{\\partial}{w_2} (w_1 x_{i1} + w_2 \\cdot x_{i2} + w_3 \\cdot x_{i3} + w_4 \\cdot x_{i4} + w_5)\\\\\n",
    "2((w_1 x_{i1} + w_2 \\cdot x_{i2} + w_3 \\cdot x_{i3} + w_4 \\cdot x_{i4} + w_5) - t_i) \\frac{\\partial}{w_3} (w_1 x_{i1} + w_2 \\cdot x_{i2} + w_3 \\cdot x_{i3} + w_4 \\cdot x_{i4} + w_5)\\\\\n",
    "2((w_1 x_{i1} + w_2 \\cdot x_{i2} + w_3 \\cdot x_{i3} + w_4 \\cdot x_{i4}  + w_5+ w_5) - t_i) \\frac{\\partial}{w_4} (w_1 x_{i1} + w_2 \\cdot x_{i2} + w_3 \\cdot x_{i3} + w_4 \\cdot x_{i4} + w_5) \\\\\n",
    "2((w_1 x_{i1} + w_2 \\cdot x_{i2} + w_3 \\cdot x_{i3} + w_4 \\cdot x_{i4}  + w_5+ w_5) - t_i) \\frac{\\partial}{w_5} (w_1 x_{i1} + w_2 \\cdot x_{i2} + w_3 \\cdot x_{i3} + w_4 \\cdot x_{i4} + w_5)\n",
    "\\end{bmatrix}\\\\\n",
    "&= \n",
    "\\begin{bmatrix} \n",
    "2((w_1 x_{i1} + w_2 \\cdot x_{i2} + w_3 \\cdot x_{i3} + w_4 \\cdot x_{i4} + w_5) - t_i) x_{i1}\\\\\n",
    "2((w_1 x_{i1} + w_2 \\cdot x_{i2} + w_3 \\cdot x_{i3} + w_4 \\cdot x_{i4} + w_5) - t_i) x_{i2}\\\\\n",
    "2((w_1 x_{i1} + w_2 \\cdot x_{i2} + w_3 \\cdot x_{i3} + w_4 \\cdot x_{i4} + w_5) - t_i) x_{i3}\\\\\n",
    "2((w_1 x_{i1} + w_2 \\cdot x_{i2} + w_3 \\cdot x_{i3} + w_4 \\cdot x_{i4} + w_5) - t_i) x_{i4} \\\\\n",
    "2((w_1 x_{i1} + w_2 \\cdot x_{i2} + w_3 \\cdot x_{i3} + w_4 \\cdot x_{i4} + w_5) - t_i) \n",
    "\\end{bmatrix}\\\\\n",
    "&= \n",
    "\\begin{bmatrix} \n",
    "2(y_i - t_i) x_{i1}\\\\\n",
    "2(y_i - t_i) x_{i2}\\\\\n",
    "2(y_i - t_i) x_{i3}\\\\\n",
    "2(y_i - t_i) x_{i4} \\\\\n",
    "2(y_i - t_i)\n",
    "\\end{bmatrix}\n",
    "\\end{align}\n",
    "\n",
    "We can then update the weights of the perceptron using a step of gradient descent\n",
    "\n",
    "$$W = W - \\eta \\nabla_W \\operatorname{MSE}(X_i, t_i)$$\n",
    "\n",
    "where $\\eta$ is the learning rate."
   ]
  },
  {
   "cell_type": "code",
   "execution_count": 30,
   "metadata": {},
   "outputs": [
    {
     "name": "stdout",
     "output_type": "stream",
     "text": [
      "Iteration: 1 => 40 points correctly classified\n",
      "Iteration: 2 => 73 points correctly classified\n",
      "Iteration: 3 => 78 points correctly classified\n",
      "Iteration: 4 => 78 points correctly classified\n",
      "Iteration: 5 => 78 points correctly classified\n",
      "Iteration: 6 => 77 points correctly classified\n",
      "Iteration: 7 => 77 points correctly classified\n",
      "Iteration: 8 => 76 points correctly classified\n",
      "Iteration: 9 => 77 points correctly classified\n",
      "Iteration: 10 => 77 points correctly classified\n",
      "Iteration: 11 => 77 points correctly classified\n",
      "Iteration: 12 => 77 points correctly classified\n",
      "Iteration: 13 => 77 points correctly classified\n",
      "Iteration: 14 => 77 points correctly classified\n",
      "Iteration: 15 => 78 points correctly classified\n",
      "Iteration: 16 => 78 points correctly classified\n",
      "Iteration: 17 => 78 points correctly classified\n",
      "Iteration: 18 => 78 points correctly classified\n",
      "Iteration: 19 => 78 points correctly classified\n",
      "Iteration: 20 => 78 points correctly classified\n",
      "Iteration: 21 => 78 points correctly classified\n",
      "Iteration: 22 => 79 points correctly classified\n",
      "Iteration: 23 => 79 points correctly classified\n",
      "Iteration: 24 => 78 points correctly classified\n",
      "Iteration: 25 => 78 points correctly classified\n",
      "Iteration: 26 => 78 points correctly classified\n",
      "Iteration: 27 => 78 points correctly classified\n",
      "Iteration: 28 => 79 points correctly classified\n",
      "Iteration: 29 => 79 points correctly classified\n",
      "Iteration: 30 => 79 points correctly classified\n",
      "Iteration: 31 => 79 points correctly classified\n",
      "Iteration: 32 => 79 points correctly classified\n",
      "Iteration: 33 => 80 points correctly classified\n"
     ]
    }
   ],
   "source": [
    "# Train the Perceptron until all points are correctly classified and update the weights using the stochastic gradient descent rule\n",
    "\n",
    "k = 1\n",
    "\n",
    "while True:\n",
    "    for i in range(X_train.shape[0]):\n",
    "        y_pred = np.dot(W, X_train[i])  \n",
    "        error = y_pred - y_train[i]\n",
    "        if y_pred >= 0.5 and y_train[i] == 0:\n",
    "            W -= lr * 2*error * X_train[i]\n",
    "        elif y_pred < 0.5 and y_train[i] == 1:\n",
    "            W -= lr * 2*error * X_train[i]\n",
    "\n",
    "    count = 0\n",
    "    for i in range(X_train.shape[0]):\n",
    "        if np.dot(W.T, X_train[i]) >= 0.5 and y_train[i] == 1 or np.dot(W.T, X_train[i]) < 0.5 and y_train[i] == 0:\n",
    "            count += 1\n",
    "    print('Iteration: {} => {} points correctly classified'.format(k, count))\n",
    "\n",
    "    if count == X_train.shape[0]:\n",
    "        break\n",
    "    k += 1    "
   ]
  },
  {
   "cell_type": "code",
   "execution_count": 31,
   "metadata": {},
   "outputs": [
    {
     "data": {
      "text/plain": [
       "array([0.01000609, 0.05605362, 0.02169931, 0.04587027, 0.01433344])"
      ]
     },
     "execution_count": 31,
     "metadata": {},
     "output_type": "execute_result"
    }
   ],
   "source": [
    "W"
   ]
  },
  {
   "cell_type": "code",
   "execution_count": 32,
   "metadata": {},
   "outputs": [
    {
     "name": "stdout",
     "output_type": "stream",
     "text": [
      "Accuracy: 100.0%\n"
     ]
    }
   ],
   "source": [
    "# get the accurracy in the testing set\n",
    "count = 0\n",
    "for i in range(X_test.shape[0]):\n",
    "    if np.dot(W.T, X_test[i]) >= 0.5 and y_test[i] == 1 or np.dot(W.T, X_test[i]) < 0.5 and y_test[i] == 0:\n",
    "        count += 1\n",
    "\n",
    "print('Accuracy: {}%'.format(count/X_test.shape[0] * 100))"
   ]
  }
 ],
 "metadata": {
  "kernelspec": {
   "display_name": "Python 3",
   "language": "python",
   "name": "python3"
  },
  "language_info": {
   "codemirror_mode": {
    "name": "ipython",
    "version": 3
   },
   "file_extension": ".py",
   "mimetype": "text/x-python",
   "name": "python",
   "nbconvert_exporter": "python",
   "pygments_lexer": "ipython3",
   "version": "3.10.11"
  }
 },
 "nbformat": 4,
 "nbformat_minor": 2
}
