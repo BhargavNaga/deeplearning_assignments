{
 "cells": [
  {
   "cell_type": "code",
   "execution_count": 198,
   "metadata": {},
   "outputs": [],
   "source": [
    "import numpy as np \n",
    "import pandas as pd \n",
    "import sklearn \n",
    "import tensorflow as tf\n",
    "from matplotlib import pyplot as plt \n",
    "import seaborn as sns\n",
    "import keras"
   ]
  },
  {
   "cell_type": "code",
   "execution_count": 199,
   "metadata": {},
   "outputs": [
    {
     "data": {
      "text/html": [
       "<div>\n",
       "<style scoped>\n",
       "    .dataframe tbody tr th:only-of-type {\n",
       "        vertical-align: middle;\n",
       "    }\n",
       "\n",
       "    .dataframe tbody tr th {\n",
       "        vertical-align: top;\n",
       "    }\n",
       "\n",
       "    .dataframe thead th {\n",
       "        text-align: right;\n",
       "    }\n",
       "</style>\n",
       "<table border=\"1\" class=\"dataframe\">\n",
       "  <thead>\n",
       "    <tr style=\"text-align: right;\">\n",
       "      <th></th>\n",
       "      <th>date</th>\n",
       "      <th>home_team</th>\n",
       "      <th>away_team</th>\n",
       "      <th>tournament</th>\n",
       "      <th>city</th>\n",
       "      <th>country</th>\n",
       "      <th>neutral</th>\n",
       "    </tr>\n",
       "  </thead>\n",
       "  <tbody>\n",
       "    <tr>\n",
       "      <th>0</th>\n",
       "      <td>2001-03-11</td>\n",
       "      <td>Botswana</td>\n",
       "      <td>Mozambique</td>\n",
       "      <td>Friendly</td>\n",
       "      <td>Maseru</td>\n",
       "      <td>Lesotho</td>\n",
       "      <td>True</td>\n",
       "    </tr>\n",
       "    <tr>\n",
       "      <th>1</th>\n",
       "      <td>1982-06-22</td>\n",
       "      <td>Russia</td>\n",
       "      <td>Scotland</td>\n",
       "      <td>FIFA World Cup</td>\n",
       "      <td>Málaga</td>\n",
       "      <td>Spain</td>\n",
       "      <td>True</td>\n",
       "    </tr>\n",
       "    <tr>\n",
       "      <th>2</th>\n",
       "      <td>1987-07-27</td>\n",
       "      <td>São Tomé and Príncipe</td>\n",
       "      <td>Angola</td>\n",
       "      <td>Friendly</td>\n",
       "      <td>São Tomé</td>\n",
       "      <td>São Tomé and Príncipe</td>\n",
       "      <td>False</td>\n",
       "    </tr>\n",
       "    <tr>\n",
       "      <th>3</th>\n",
       "      <td>2011-09-02</td>\n",
       "      <td>Grenada</td>\n",
       "      <td>Belize</td>\n",
       "      <td>FIFA World Cup qualification</td>\n",
       "      <td>St. George's</td>\n",
       "      <td>Grenada</td>\n",
       "      <td>False</td>\n",
       "    </tr>\n",
       "    <tr>\n",
       "      <th>4</th>\n",
       "      <td>1998-11-18</td>\n",
       "      <td>Luxembourg</td>\n",
       "      <td>Belgium</td>\n",
       "      <td>Friendly</td>\n",
       "      <td>Luxembourg</td>\n",
       "      <td>Luxembourg</td>\n",
       "      <td>False</td>\n",
       "    </tr>\n",
       "  </tbody>\n",
       "</table>\n",
       "</div>"
      ],
      "text/plain": [
       "         date              home_team   away_team   \n",
       "0  2001-03-11               Botswana  Mozambique  \\\n",
       "1  1982-06-22                 Russia    Scotland   \n",
       "2  1987-07-27  São Tomé and Príncipe      Angola   \n",
       "3  2011-09-02                Grenada      Belize   \n",
       "4  1998-11-18             Luxembourg     Belgium   \n",
       "\n",
       "                     tournament          city                country  neutral  \n",
       "0                      Friendly        Maseru                Lesotho     True  \n",
       "1                FIFA World Cup        Málaga                  Spain     True  \n",
       "2                      Friendly      São Tomé  São Tomé and Príncipe    False  \n",
       "3  FIFA World Cup qualification  St. George's                Grenada    False  \n",
       "4                      Friendly    Luxembourg             Luxembourg    False  "
      ]
     },
     "execution_count": 199,
     "metadata": {},
     "output_type": "execute_result"
    }
   ],
   "source": [
    "rd=pd.read_csv(\"A:\\deeplearning\\hackathon\\X_train.csv\")\n",
    "df_train=pd.DataFrame(rd)\n",
    "df_train.head(5)"
   ]
  },
  {
   "cell_type": "code",
   "execution_count": 200,
   "metadata": {},
   "outputs": [
    {
     "data": {
      "text/html": [
       "<div>\n",
       "<style scoped>\n",
       "    .dataframe tbody tr th:only-of-type {\n",
       "        vertical-align: middle;\n",
       "    }\n",
       "\n",
       "    .dataframe tbody tr th {\n",
       "        vertical-align: top;\n",
       "    }\n",
       "\n",
       "    .dataframe thead th {\n",
       "        text-align: right;\n",
       "    }\n",
       "</style>\n",
       "<table border=\"1\" class=\"dataframe\">\n",
       "  <thead>\n",
       "    <tr style=\"text-align: right;\">\n",
       "      <th></th>\n",
       "      <th>result</th>\n",
       "    </tr>\n",
       "  </thead>\n",
       "  <tbody>\n",
       "    <tr>\n",
       "      <th>0</th>\n",
       "      <td>1</td>\n",
       "    </tr>\n",
       "    <tr>\n",
       "      <th>1</th>\n",
       "      <td>0</td>\n",
       "    </tr>\n",
       "    <tr>\n",
       "      <th>2</th>\n",
       "      <td>0</td>\n",
       "    </tr>\n",
       "    <tr>\n",
       "      <th>3</th>\n",
       "      <td>1</td>\n",
       "    </tr>\n",
       "    <tr>\n",
       "      <th>4</th>\n",
       "      <td>0</td>\n",
       "    </tr>\n",
       "  </tbody>\n",
       "</table>\n",
       "</div>"
      ],
      "text/plain": [
       "   result\n",
       "0       1\n",
       "1       0\n",
       "2       0\n",
       "3       1\n",
       "4       0"
      ]
     },
     "execution_count": 200,
     "metadata": {},
     "output_type": "execute_result"
    }
   ],
   "source": [
    "rd=pd.read_csv(\"A:\\deeplearning\\hackathon\\y_train.csv\")\n",
    "y_train=pd.DataFrame(rd)\n",
    "y_train.head(5)"
   ]
  },
  {
   "cell_type": "code",
   "execution_count": 150,
   "metadata": {},
   "outputs": [
    {
     "data": {
      "text/plain": [
       "(41660, 7)"
      ]
     },
     "execution_count": 150,
     "metadata": {},
     "output_type": "execute_result"
    }
   ],
   "source": [
    "df_train.shape"
   ]
  },
  {
   "cell_type": "code",
   "execution_count": 201,
   "metadata": {},
   "outputs": [
    {
     "name": "stdout",
     "output_type": "stream",
     "text": [
      "date 15184\n",
      "home_team 327\n",
      "away_team 320\n",
      "tournament 161\n",
      "city 2014\n",
      "country 271\n",
      "neutral 2\n"
     ]
    }
   ],
   "source": [
    "columns=df_train.columns \n",
    "unique_values=[]\n",
    "for i in columns:\n",
    "    values=df_train[i].values \n",
    "    unq_values=np.unique(values)\n",
    "    unique_values.append(len(unq_values))\n",
    "\n",
    "for i,j in zip(columns,unique_values):\n",
    "    print(i,j)\n"
   ]
  },
  {
   "cell_type": "code",
   "execution_count": 202,
   "metadata": {},
   "outputs": [
    {
     "data": {
      "text/html": [
       "<div>\n",
       "<style scoped>\n",
       "    .dataframe tbody tr th:only-of-type {\n",
       "        vertical-align: middle;\n",
       "    }\n",
       "\n",
       "    .dataframe tbody tr th {\n",
       "        vertical-align: top;\n",
       "    }\n",
       "\n",
       "    .dataframe thead th {\n",
       "        text-align: right;\n",
       "    }\n",
       "</style>\n",
       "<table border=\"1\" class=\"dataframe\">\n",
       "  <thead>\n",
       "    <tr style=\"text-align: right;\">\n",
       "      <th></th>\n",
       "      <th>date</th>\n",
       "      <th>home_team</th>\n",
       "      <th>away_team</th>\n",
       "      <th>tournament</th>\n",
       "      <th>country</th>\n",
       "      <th>neutral</th>\n",
       "    </tr>\n",
       "  </thead>\n",
       "  <tbody>\n",
       "    <tr>\n",
       "      <th>0</th>\n",
       "      <td>2001-03-11</td>\n",
       "      <td>Botswana</td>\n",
       "      <td>Mozambique</td>\n",
       "      <td>Friendly</td>\n",
       "      <td>Lesotho</td>\n",
       "      <td>True</td>\n",
       "    </tr>\n",
       "    <tr>\n",
       "      <th>1</th>\n",
       "      <td>1982-06-22</td>\n",
       "      <td>Russia</td>\n",
       "      <td>Scotland</td>\n",
       "      <td>FIFA World Cup</td>\n",
       "      <td>Spain</td>\n",
       "      <td>True</td>\n",
       "    </tr>\n",
       "    <tr>\n",
       "      <th>2</th>\n",
       "      <td>1987-07-27</td>\n",
       "      <td>São Tomé and Príncipe</td>\n",
       "      <td>Angola</td>\n",
       "      <td>Friendly</td>\n",
       "      <td>São Tomé and Príncipe</td>\n",
       "      <td>False</td>\n",
       "    </tr>\n",
       "    <tr>\n",
       "      <th>3</th>\n",
       "      <td>2011-09-02</td>\n",
       "      <td>Grenada</td>\n",
       "      <td>Belize</td>\n",
       "      <td>FIFA World Cup qualification</td>\n",
       "      <td>Grenada</td>\n",
       "      <td>False</td>\n",
       "    </tr>\n",
       "    <tr>\n",
       "      <th>4</th>\n",
       "      <td>1998-11-18</td>\n",
       "      <td>Luxembourg</td>\n",
       "      <td>Belgium</td>\n",
       "      <td>Friendly</td>\n",
       "      <td>Luxembourg</td>\n",
       "      <td>False</td>\n",
       "    </tr>\n",
       "  </tbody>\n",
       "</table>\n",
       "</div>"
      ],
      "text/plain": [
       "         date              home_team   away_team   \n",
       "0  2001-03-11               Botswana  Mozambique  \\\n",
       "1  1982-06-22                 Russia    Scotland   \n",
       "2  1987-07-27  São Tomé and Príncipe      Angola   \n",
       "3  2011-09-02                Grenada      Belize   \n",
       "4  1998-11-18             Luxembourg     Belgium   \n",
       "\n",
       "                     tournament                country  neutral  \n",
       "0                      Friendly                Lesotho     True  \n",
       "1                FIFA World Cup                  Spain     True  \n",
       "2                      Friendly  São Tomé and Príncipe    False  \n",
       "3  FIFA World Cup qualification                Grenada    False  \n",
       "4                      Friendly             Luxembourg    False  "
      ]
     },
     "execution_count": 202,
     "metadata": {},
     "output_type": "execute_result"
    }
   ],
   "source": [
    "\n",
    "df_train=df_train.drop(columns=['city'])\n",
    "df_train.head(5)\n"
   ]
  },
  {
   "cell_type": "code",
   "execution_count": 203,
   "metadata": {},
   "outputs": [
    {
     "name": "stdout",
     "output_type": "stream",
     "text": [
      "327\n"
     ]
    }
   ],
   "source": [
    "home_team=df_train['home_team'].values \n",
    "num_of_torna=[]\n",
    "print(len(np.unique(home_team)))\n",
    "unq_value=np.unique(home_team)\n",
    "for i in unq_value:\n",
    "    indexes=df_train.where(df_train['home_team']==i)\n",
    "    torna=0\n",
    "    for k in indexes:\n",
    "        torna+=1\n",
    "    num_of_torna.append(torna)\n",
    "# for i,j in zip(unq_value,num_of_torna):\n",
    "#     print(i,j)"
   ]
  },
  {
   "cell_type": "code",
   "execution_count": 154,
   "metadata": {},
   "outputs": [
    {
     "data": {
      "text/plain": [
       "327"
      ]
     },
     "execution_count": 154,
     "metadata": {},
     "output_type": "execute_result"
    }
   ],
   "source": [
    "len(unq_value)"
   ]
  },
  {
   "cell_type": "code",
   "execution_count": 204,
   "metadata": {},
   "outputs": [
    {
     "name": "stdout",
     "output_type": "stream",
     "text": [
      "{'Abkhazia': 0, 'Afghanistan': 1, 'Albania': 2, 'Alderney': 3, 'Algeria': 4, 'American Samoa': 5, 'Andalusia': 6, 'Andorra': 7, 'Angola': 8, 'Anguilla': 9, 'Antigua and Barbuda': 10, 'Arameans Suryoye': 11, 'Argentina': 12, 'Armenia': 13, 'Artsakh': 14, 'Aruba': 15, 'Australia': 16, 'Austria': 17, 'Aymara': 18, 'Azerbaijan': 19, 'Bahamas': 20, 'Bahrain': 21, 'Bangladesh': 22, 'Barawa': 23, 'Barbados': 24, 'Basque Country': 25, 'Belarus': 26, 'Belgium': 27, 'Belize': 28, 'Benin': 29, 'Bermuda': 30, 'Bhutan': 31, 'Biafra': 32, 'Bolivia': 33, 'Bonaire': 34, 'Bosnia and Herzegovina': 35, 'Botswana': 36, 'Brazil': 37, 'British Virgin Islands': 38, 'Brittany': 39, 'Brunei': 40, 'Bulgaria': 41, 'Burkina Faso': 42, 'Burma': 43, 'Burundi': 44, 'Cambodia': 45, 'Cameroon': 46, 'Canada': 47, 'Canary Islands': 48, 'Cape Verde': 49, 'Cascadia': 50, 'Catalonia': 51, 'Cayman Islands': 52, 'Central African Republic': 53, 'Central Spain': 54, 'Chad': 55, 'Chagos Islands': 56, 'Chameria': 57, 'Chechnya': 58, 'Chile': 59, 'China': 60, 'China PR': 61, 'Colombia': 62, 'Comoros': 63, 'Congo': 64, 'Cook Islands': 65, 'Corsica': 66, 'Costa Rica': 67, 'County of Nice': 68, 'Croatia': 69, 'Cuba': 70, 'Curaçao': 71, 'Cyprus': 72, 'Czech Republic': 73, 'Czechoslovakia': 74, 'DR Congo': 75, 'Darfur': 76, 'Denmark': 77, 'Djibouti': 78, 'Dominica': 79, 'Dominican Republic': 80, 'Donetsk PR': 81, 'Délvidék': 82, 'Ecuador': 83, 'Egypt': 84, 'El Salvador': 85, 'Elba Island': 86, 'Ellan Vannin': 87, 'England': 88, 'Equatorial Guinea': 89, 'Eritrea': 90, 'Estonia': 91, 'Eswatini': 92, 'Ethiopia': 93, 'Falkland Islands': 94, 'Faroe Islands': 95, 'Felvidék': 96, 'Fiji': 97, 'Finland': 98, 'France': 99, 'Franconia': 100, 'French Guiana': 101, 'Frøya': 102, 'Gabon': 103, 'Galicia': 104, 'Gambia': 105, 'Georgia': 106, 'German DR': 107, 'Germany': 108, 'Ghana': 109, 'Gibraltar': 110, 'Gotland': 111, 'Gozo': 112, 'Greece': 113, 'Greenland': 114, 'Grenada': 115, 'Guadeloupe': 116, 'Guam': 117, 'Guatemala': 118, 'Guernsey': 119, 'Guinea': 120, 'Guinea-Bissau': 121, 'Guyana': 122, 'Găgăuzia': 123, 'Haiti': 124, 'Hitra': 125, 'Hmong': 126, 'Honduras': 127, 'Hong Kong': 128, 'Hungary': 129, 'Iceland': 130, 'India': 131, 'Indonesia': 132, 'Iran': 133, 'Iraq': 134, 'Iraqi Kurdistan': 135, 'Isle of Man': 136, 'Isle of Wight': 137, 'Israel': 138, 'Italy': 139, 'Ivory Coast': 140, 'Jamaica': 141, 'Japan': 142, 'Jersey': 143, 'Jordan': 144, 'Kabylia': 145, 'Kazakhstan': 146, 'Kenya': 147, 'Kernow': 148, 'Kiribati': 149, 'Kosovo': 150, 'Kuwait': 151, 'Kyrgyzstan': 152, 'Kárpátalja': 153, 'Laos': 154, 'Latvia': 155, 'Lebanon': 156, 'Lesotho': 157, 'Liberia': 158, 'Libya': 159, 'Liechtenstein': 160, 'Lithuania': 161, 'Luhansk PR': 162, 'Luxembourg': 163, 'Macau': 164, 'Madagascar': 165, 'Madrid': 166, 'Malawi': 167, 'Malaya': 168, 'Malaysia': 169, 'Maldives': 170, 'Mali': 171, 'Malta': 172, 'Manchukuo': 173, 'Mapuche': 174, 'Martinique': 175, 'Matabeleland': 176, 'Mauritania': 177, 'Mauritius': 178, 'Mayotte': 179, 'Menorca': 180, 'Mexico': 181, 'Micronesia': 182, 'Moldova': 183, 'Monaco': 184, 'Mongolia': 185, 'Montenegro': 186, 'Montserrat': 187, 'Morocco': 188, 'Mozambique': 189, 'Myanmar': 190, 'Namibia': 191, 'Nepal': 192, 'Netherlands': 193, 'New Caledonia': 194, 'New Zealand': 195, 'Nicaragua': 196, 'Niger': 197, 'Nigeria': 198, 'Niue': 199, 'North Korea': 200, 'North Macedonia': 201, 'North Vietnam': 202, 'Northern Cyprus': 203, 'Northern Ireland': 204, 'Northern Mariana Islands': 205, 'Norway': 206, 'Occitania': 207, 'Oman': 208, 'Orkney': 209, 'Padania': 210, 'Pakistan': 211, 'Palau': 212, 'Palestine': 213, 'Panama': 214, 'Panjab': 215, 'Papua New Guinea': 216, 'Paraguay': 217, 'Parishes of Jersey': 218, 'Peru': 219, 'Philippines': 220, 'Poland': 221, 'Portugal': 222, 'Provence': 223, 'Puerto Rico': 224, 'Qatar': 225, 'Raetia': 226, 'Republic of Ireland': 227, 'Republic of St. Pauli': 228, 'Rhodes': 229, 'Romani people': 230, 'Romania': 231, 'Russia': 232, 'Rwanda': 233, 'Ryūkyū': 234, 'Réunion': 235, 'Saare County': 236, 'Saarland': 237, 'Saint Barthélemy': 238, 'Saint Helena': 239, 'Saint Kitts and Nevis': 240, 'Saint Lucia': 241, 'Saint Martin': 242, 'Saint Vincent and the Grenadines': 243, 'Samoa': 244, 'San Marino': 245, 'Sark': 246, 'Saudi Arabia': 247, 'Saugeais': 248, 'Scotland': 249, 'Sealand': 250, 'Seborga': 251, 'Senegal': 252, 'Serbia': 253, 'Seychelles': 254, 'Shetland': 255, 'Sierra Leone': 256, 'Silesia': 257, 'Singapore': 258, 'Sint Maarten': 259, 'Slovakia': 260, 'Slovenia': 261, 'Solomon Islands': 262, 'Somalia': 263, 'Somaliland': 264, 'South Africa': 265, 'South Korea': 266, 'South Ossetia': 267, 'South Sudan': 268, 'Spain': 269, 'Sri Lanka': 270, 'Sudan': 271, 'Suriname': 272, 'Sweden': 273, 'Switzerland': 274, 'Syria': 275, 'Székely Land': 276, 'Sápmi': 277, 'São Tomé and Príncipe': 278, 'Tahiti': 279, 'Taiwan': 280, 'Tajikistan': 281, 'Tamil Eelam': 282, 'Tanzania': 283, 'Thailand': 284, 'Tibet': 285, 'Ticino': 286, 'Timor-Leste': 287, 'Togo': 288, 'Tonga': 289, 'Trinidad and Tobago': 290, 'Tunisia': 291, 'Turkey': 292, 'Turkmenistan': 293, 'Turks and Caicos Islands': 294, 'Tuvalu': 295, 'Uganda': 296, 'Ukraine': 297, 'United Arab Emirates': 298, 'United Koreans in Japan': 299, 'United States': 300, 'United States Virgin Islands': 301, 'Uruguay': 302, 'Uzbekistan': 303, 'Vanuatu': 304, 'Vatican City': 305, 'Venezuela': 306, 'Vietnam': 307, 'Vietnam Republic': 308, 'Wales': 309, 'Wallis Islands and Futuna': 310, 'West Papua': 311, 'Western Armenia': 312, 'Western Australia': 313, 'Western Isles': 314, 'Western Sahara': 315, 'Yemen': 316, 'Yemen DPR': 317, 'Ynys Môn': 318, 'Yorkshire': 319, 'Yoruba Nation': 320, 'Yugoslavia': 321, 'Zambia': 322, 'Zanzibar': 323, 'Zimbabwe': 324, 'Åland': 325, 'Åland Islands': 326}\n"
     ]
    }
   ],
   "source": [
    "def create_country_dict(country_column):\n",
    "    \"\"\"\n",
    "    Creates a dictionary with unique keys for each country.\n",
    "\n",
    "    Args:\n",
    "    country_column (pandas.Series): A pandas Series containing unique country names.\n",
    "\n",
    "    Returns:\n",
    "    dict: A dictionary with unique keys for each country.\n",
    "    \"\"\"\n",
    "    country_dict = {}\n",
    "    for index, country in enumerate(country_column):\n",
    "        country_dict[country] = index\n",
    "    return country_dict\n",
    "\n",
    "\n",
    "country_dict = create_country_dict(unq_value)\n",
    "print(country_dict)\n"
   ]
  },
  {
   "cell_type": "code",
   "execution_count": 205,
   "metadata": {},
   "outputs": [
    {
     "data": {
      "text/html": [
       "<div>\n",
       "<style scoped>\n",
       "    .dataframe tbody tr th:only-of-type {\n",
       "        vertical-align: middle;\n",
       "    }\n",
       "\n",
       "    .dataframe tbody tr th {\n",
       "        vertical-align: top;\n",
       "    }\n",
       "\n",
       "    .dataframe thead th {\n",
       "        text-align: right;\n",
       "    }\n",
       "</style>\n",
       "<table border=\"1\" class=\"dataframe\">\n",
       "  <thead>\n",
       "    <tr style=\"text-align: right;\">\n",
       "      <th></th>\n",
       "      <th>date</th>\n",
       "      <th>home_team</th>\n",
       "      <th>away_team</th>\n",
       "      <th>tournament</th>\n",
       "      <th>country</th>\n",
       "      <th>neutral</th>\n",
       "    </tr>\n",
       "  </thead>\n",
       "  <tbody>\n",
       "    <tr>\n",
       "      <th>0</th>\n",
       "      <td>2001-03-11</td>\n",
       "      <td>36</td>\n",
       "      <td>189.0</td>\n",
       "      <td>Friendly</td>\n",
       "      <td>157.0</td>\n",
       "      <td>True</td>\n",
       "    </tr>\n",
       "    <tr>\n",
       "      <th>1</th>\n",
       "      <td>1982-06-22</td>\n",
       "      <td>232</td>\n",
       "      <td>249.0</td>\n",
       "      <td>FIFA World Cup</td>\n",
       "      <td>269.0</td>\n",
       "      <td>True</td>\n",
       "    </tr>\n",
       "    <tr>\n",
       "      <th>2</th>\n",
       "      <td>1987-07-27</td>\n",
       "      <td>278</td>\n",
       "      <td>8.0</td>\n",
       "      <td>Friendly</td>\n",
       "      <td>278.0</td>\n",
       "      <td>False</td>\n",
       "    </tr>\n",
       "    <tr>\n",
       "      <th>3</th>\n",
       "      <td>2011-09-02</td>\n",
       "      <td>115</td>\n",
       "      <td>28.0</td>\n",
       "      <td>FIFA World Cup qualification</td>\n",
       "      <td>115.0</td>\n",
       "      <td>False</td>\n",
       "    </tr>\n",
       "    <tr>\n",
       "      <th>4</th>\n",
       "      <td>1998-11-18</td>\n",
       "      <td>163</td>\n",
       "      <td>27.0</td>\n",
       "      <td>Friendly</td>\n",
       "      <td>163.0</td>\n",
       "      <td>False</td>\n",
       "    </tr>\n",
       "    <tr>\n",
       "      <th>...</th>\n",
       "      <td>...</td>\n",
       "      <td>...</td>\n",
       "      <td>...</td>\n",
       "      <td>...</td>\n",
       "      <td>...</td>\n",
       "      <td>...</td>\n",
       "    </tr>\n",
       "    <tr>\n",
       "      <th>41655</th>\n",
       "      <td>1997-01-12</td>\n",
       "      <td>306</td>\n",
       "      <td>217.0</td>\n",
       "      <td>FIFA World Cup qualification</td>\n",
       "      <td>306.0</td>\n",
       "      <td>False</td>\n",
       "    </tr>\n",
       "    <tr>\n",
       "      <th>41656</th>\n",
       "      <td>2023-10-16</td>\n",
       "      <td>189</td>\n",
       "      <td>198.0</td>\n",
       "      <td>Friendly</td>\n",
       "      <td>222.0</td>\n",
       "      <td>True</td>\n",
       "    </tr>\n",
       "    <tr>\n",
       "      <th>41657</th>\n",
       "      <td>2019-11-14</td>\n",
       "      <td>73</td>\n",
       "      <td>150.0</td>\n",
       "      <td>UEFA Euro qualification</td>\n",
       "      <td>73.0</td>\n",
       "      <td>False</td>\n",
       "    </tr>\n",
       "    <tr>\n",
       "      <th>41658</th>\n",
       "      <td>2021-06-15</td>\n",
       "      <td>151</td>\n",
       "      <td>280.0</td>\n",
       "      <td>FIFA World Cup qualification</td>\n",
       "      <td>151.0</td>\n",
       "      <td>False</td>\n",
       "    </tr>\n",
       "    <tr>\n",
       "      <th>41659</th>\n",
       "      <td>1946-05-30</td>\n",
       "      <td>27</td>\n",
       "      <td>193.0</td>\n",
       "      <td>Friendly</td>\n",
       "      <td>27.0</td>\n",
       "      <td>False</td>\n",
       "    </tr>\n",
       "  </tbody>\n",
       "</table>\n",
       "<p>41660 rows × 6 columns</p>\n",
       "</div>"
      ],
      "text/plain": [
       "             date  home_team  away_team                    tournament   \n",
       "0      2001-03-11         36      189.0                      Friendly  \\\n",
       "1      1982-06-22        232      249.0                FIFA World Cup   \n",
       "2      1987-07-27        278        8.0                      Friendly   \n",
       "3      2011-09-02        115       28.0  FIFA World Cup qualification   \n",
       "4      1998-11-18        163       27.0                      Friendly   \n",
       "...           ...        ...        ...                           ...   \n",
       "41655  1997-01-12        306      217.0  FIFA World Cup qualification   \n",
       "41656  2023-10-16        189      198.0                      Friendly   \n",
       "41657  2019-11-14         73      150.0       UEFA Euro qualification   \n",
       "41658  2021-06-15        151      280.0  FIFA World Cup qualification   \n",
       "41659  1946-05-30         27      193.0                      Friendly   \n",
       "\n",
       "       country  neutral  \n",
       "0        157.0     True  \n",
       "1        269.0     True  \n",
       "2        278.0    False  \n",
       "3        115.0    False  \n",
       "4        163.0    False  \n",
       "...        ...      ...  \n",
       "41655    306.0    False  \n",
       "41656    222.0     True  \n",
       "41657     73.0    False  \n",
       "41658    151.0    False  \n",
       "41659     27.0    False  \n",
       "\n",
       "[41660 rows x 6 columns]"
      ]
     },
     "execution_count": 205,
     "metadata": {},
     "output_type": "execute_result"
    }
   ],
   "source": [
    "df_train['home_team'] = df_train['home_team'].map(country_dict)\n",
    "df_train['away_team'] = df_train['away_team'].map(country_dict)\n",
    "df_train['country'] = df_train['country'].map(country_dict)\n",
    "df_train"
   ]
  },
  {
   "cell_type": "code",
   "execution_count": 182,
   "metadata": {},
   "outputs": [
    {
     "data": {
      "text/html": [
       "<div>\n",
       "<style scoped>\n",
       "    .dataframe tbody tr th:only-of-type {\n",
       "        vertical-align: middle;\n",
       "    }\n",
       "\n",
       "    .dataframe tbody tr th {\n",
       "        vertical-align: top;\n",
       "    }\n",
       "\n",
       "    .dataframe thead th {\n",
       "        text-align: right;\n",
       "    }\n",
       "</style>\n",
       "<table border=\"1\" class=\"dataframe\">\n",
       "  <thead>\n",
       "    <tr style=\"text-align: right;\">\n",
       "      <th></th>\n",
       "      <th>date</th>\n",
       "      <th>home_team</th>\n",
       "      <th>away_team</th>\n",
       "      <th>tournament</th>\n",
       "      <th>country</th>\n",
       "      <th>neutral</th>\n",
       "    </tr>\n",
       "  </thead>\n",
       "  <tbody>\n",
       "    <tr>\n",
       "      <th>0</th>\n",
       "      <td>2001-03-11</td>\n",
       "      <td>36</td>\n",
       "      <td>189.0</td>\n",
       "      <td>Friendly</td>\n",
       "      <td>157.0</td>\n",
       "      <td>True</td>\n",
       "    </tr>\n",
       "    <tr>\n",
       "      <th>1</th>\n",
       "      <td>1982-06-22</td>\n",
       "      <td>232</td>\n",
       "      <td>249.0</td>\n",
       "      <td>FIFA World Cup</td>\n",
       "      <td>269.0</td>\n",
       "      <td>True</td>\n",
       "    </tr>\n",
       "    <tr>\n",
       "      <th>2</th>\n",
       "      <td>1987-07-27</td>\n",
       "      <td>278</td>\n",
       "      <td>8.0</td>\n",
       "      <td>Friendly</td>\n",
       "      <td>278.0</td>\n",
       "      <td>False</td>\n",
       "    </tr>\n",
       "    <tr>\n",
       "      <th>3</th>\n",
       "      <td>2011-09-02</td>\n",
       "      <td>115</td>\n",
       "      <td>28.0</td>\n",
       "      <td>FIFA World Cup qualification</td>\n",
       "      <td>115.0</td>\n",
       "      <td>False</td>\n",
       "    </tr>\n",
       "    <tr>\n",
       "      <th>4</th>\n",
       "      <td>1998-11-18</td>\n",
       "      <td>163</td>\n",
       "      <td>27.0</td>\n",
       "      <td>Friendly</td>\n",
       "      <td>163.0</td>\n",
       "      <td>False</td>\n",
       "    </tr>\n",
       "  </tbody>\n",
       "</table>\n",
       "</div>"
      ],
      "text/plain": [
       "         date  home_team  away_team                    tournament  country   \n",
       "0  2001-03-11         36      189.0                      Friendly    157.0  \\\n",
       "1  1982-06-22        232      249.0                FIFA World Cup    269.0   \n",
       "2  1987-07-27        278        8.0                      Friendly    278.0   \n",
       "3  2011-09-02        115       28.0  FIFA World Cup qualification    115.0   \n",
       "4  1998-11-18        163       27.0                      Friendly    163.0   \n",
       "\n",
       "   neutral  \n",
       "0     True  \n",
       "1     True  \n",
       "2    False  \n",
       "3    False  \n",
       "4    False  "
      ]
     },
     "execution_count": 182,
     "metadata": {},
     "output_type": "execute_result"
    }
   ],
   "source": [
    "df_train.head()"
   ]
  },
  {
   "cell_type": "code",
   "execution_count": 206,
   "metadata": {},
   "outputs": [
    {
     "data": {
      "text/html": [
       "<div>\n",
       "<style scoped>\n",
       "    .dataframe tbody tr th:only-of-type {\n",
       "        vertical-align: middle;\n",
       "    }\n",
       "\n",
       "    .dataframe tbody tr th {\n",
       "        vertical-align: top;\n",
       "    }\n",
       "\n",
       "    .dataframe thead th {\n",
       "        text-align: right;\n",
       "    }\n",
       "</style>\n",
       "<table border=\"1\" class=\"dataframe\">\n",
       "  <thead>\n",
       "    <tr style=\"text-align: right;\">\n",
       "      <th></th>\n",
       "      <th>home_team</th>\n",
       "      <th>away_team</th>\n",
       "      <th>tournament</th>\n",
       "      <th>country</th>\n",
       "      <th>neutral</th>\n",
       "      <th>Month</th>\n",
       "    </tr>\n",
       "  </thead>\n",
       "  <tbody>\n",
       "    <tr>\n",
       "      <th>0</th>\n",
       "      <td>36</td>\n",
       "      <td>189.0</td>\n",
       "      <td>Friendly</td>\n",
       "      <td>157.0</td>\n",
       "      <td>True</td>\n",
       "      <td>2</td>\n",
       "    </tr>\n",
       "    <tr>\n",
       "      <th>1</th>\n",
       "      <td>232</td>\n",
       "      <td>249.0</td>\n",
       "      <td>FIFA World Cup</td>\n",
       "      <td>269.0</td>\n",
       "      <td>True</td>\n",
       "      <td>5</td>\n",
       "    </tr>\n",
       "    <tr>\n",
       "      <th>2</th>\n",
       "      <td>278</td>\n",
       "      <td>8.0</td>\n",
       "      <td>Friendly</td>\n",
       "      <td>278.0</td>\n",
       "      <td>False</td>\n",
       "      <td>6</td>\n",
       "    </tr>\n",
       "    <tr>\n",
       "      <th>3</th>\n",
       "      <td>115</td>\n",
       "      <td>28.0</td>\n",
       "      <td>FIFA World Cup qualification</td>\n",
       "      <td>115.0</td>\n",
       "      <td>False</td>\n",
       "      <td>8</td>\n",
       "    </tr>\n",
       "    <tr>\n",
       "      <th>4</th>\n",
       "      <td>163</td>\n",
       "      <td>27.0</td>\n",
       "      <td>Friendly</td>\n",
       "      <td>163.0</td>\n",
       "      <td>False</td>\n",
       "      <td>10</td>\n",
       "    </tr>\n",
       "    <tr>\n",
       "      <th>...</th>\n",
       "      <td>...</td>\n",
       "      <td>...</td>\n",
       "      <td>...</td>\n",
       "      <td>...</td>\n",
       "      <td>...</td>\n",
       "      <td>...</td>\n",
       "    </tr>\n",
       "    <tr>\n",
       "      <th>41655</th>\n",
       "      <td>306</td>\n",
       "      <td>217.0</td>\n",
       "      <td>FIFA World Cup qualification</td>\n",
       "      <td>306.0</td>\n",
       "      <td>False</td>\n",
       "      <td>0</td>\n",
       "    </tr>\n",
       "    <tr>\n",
       "      <th>41656</th>\n",
       "      <td>189</td>\n",
       "      <td>198.0</td>\n",
       "      <td>Friendly</td>\n",
       "      <td>222.0</td>\n",
       "      <td>True</td>\n",
       "      <td>9</td>\n",
       "    </tr>\n",
       "    <tr>\n",
       "      <th>41657</th>\n",
       "      <td>73</td>\n",
       "      <td>150.0</td>\n",
       "      <td>UEFA Euro qualification</td>\n",
       "      <td>73.0</td>\n",
       "      <td>False</td>\n",
       "      <td>10</td>\n",
       "    </tr>\n",
       "    <tr>\n",
       "      <th>41658</th>\n",
       "      <td>151</td>\n",
       "      <td>280.0</td>\n",
       "      <td>FIFA World Cup qualification</td>\n",
       "      <td>151.0</td>\n",
       "      <td>False</td>\n",
       "      <td>5</td>\n",
       "    </tr>\n",
       "    <tr>\n",
       "      <th>41659</th>\n",
       "      <td>27</td>\n",
       "      <td>193.0</td>\n",
       "      <td>Friendly</td>\n",
       "      <td>27.0</td>\n",
       "      <td>False</td>\n",
       "      <td>4</td>\n",
       "    </tr>\n",
       "  </tbody>\n",
       "</table>\n",
       "<p>41660 rows × 6 columns</p>\n",
       "</div>"
      ],
      "text/plain": [
       "       home_team  away_team                    tournament  country  neutral   \n",
       "0             36      189.0                      Friendly    157.0     True  \\\n",
       "1            232      249.0                FIFA World Cup    269.0     True   \n",
       "2            278        8.0                      Friendly    278.0    False   \n",
       "3            115       28.0  FIFA World Cup qualification    115.0    False   \n",
       "4            163       27.0                      Friendly    163.0    False   \n",
       "...          ...        ...                           ...      ...      ...   \n",
       "41655        306      217.0  FIFA World Cup qualification    306.0    False   \n",
       "41656        189      198.0                      Friendly    222.0     True   \n",
       "41657         73      150.0       UEFA Euro qualification     73.0    False   \n",
       "41658        151      280.0  FIFA World Cup qualification    151.0    False   \n",
       "41659         27      193.0                      Friendly     27.0    False   \n",
       "\n",
       "       Month  \n",
       "0          2  \n",
       "1          5  \n",
       "2          6  \n",
       "3          8  \n",
       "4         10  \n",
       "...      ...  \n",
       "41655      0  \n",
       "41656      9  \n",
       "41657     10  \n",
       "41658      5  \n",
       "41659      4  \n",
       "\n",
       "[41660 rows x 6 columns]"
      ]
     },
     "execution_count": 206,
     "metadata": {},
     "output_type": "execute_result"
    }
   ],
   "source": [
    "df_train['date'] = pd.to_datetime(df_train['date'])\n",
    "\n",
    "df_train['Month'] = df_train['date'].dt.month\n",
    "df_train['Month']=df_train['Month']-1\n",
    "df_train.drop(columns=['date'], inplace=True)\n",
    "df_train"
   ]
  },
  {
   "cell_type": "code",
   "execution_count": 207,
   "metadata": {},
   "outputs": [
    {
     "name": "stdout",
     "output_type": "stream",
     "text": [
      "{'ABCS Tournament': 0, 'AFC Asian Cup': 1, 'AFC Asian Cup qualification': 2, 'AFC Challenge Cup': 3, 'AFC Challenge Cup qualification': 4, 'AFF Championship': 5, 'AFF Championship qualification': 6, 'Africa Cup of Nations qualification': 7, 'African Cup of Nations': 8, 'African Cup of Nations qualification': 9, 'Afro-Asian Games': 10, 'Amílcar Cabral Cup': 11, 'Arab Cup': 12, 'Arab Cup qualification': 13, 'Asian Games': 14, 'Atlantic Cup': 15, 'Atlantic Heritage Cup': 16, 'Balkan Cup': 17, 'Baltic Cup': 18, 'Beijing International Friendship Tournament': 19, 'Benedikt Fontana Cup': 20, 'Bolivarian Games': 21, 'Brazil Independence Cup': 22, 'British Home Championship': 23, 'CAFA Nations Cup': 24, 'CCCF Championship': 25, 'CECAFA Cup': 26, 'CFU Caribbean Cup': 27, 'CFU Caribbean Cup qualification': 28, 'CONCACAF Championship': 29, 'CONCACAF Championship qualification': 30, 'CONCACAF Nations League': 31, 'CONCACAF Nations League qualification': 32, 'CONIFA Africa Football Cup': 33, 'CONIFA Asia Cup': 34, 'CONIFA European Football Cup': 35, 'CONIFA South America Football Cup': 36, 'CONIFA World Football Cup': 37, 'CONIFA World Football Cup qualification': 38, 'CONMEBOL–UEFA Cup of Champions': 39, 'COSAFA Cup': 40, 'COSAFA Cup qualification': 41, 'Central European International Cup': 42, 'ConIFA Challenger Cup': 43, 'Confederations Cup': 44, 'Copa América': 45, 'Copa América qualification': 46, 'Copa Artigas': 47, \"Copa Bernardo O'Higgins\": 48, 'Copa Carlos Dittborn': 49, 'Copa Chevallier Boutell': 50, 'Copa Confraternidad': 51, 'Copa Félix Bogado': 52, 'Copa Juan Pinto Durán': 53, 'Copa Lipton': 54, 'Copa Newton': 55, 'Copa Oswaldo Cruz': 56, 'Copa Paz del Chaco': 57, 'Copa Premio Honor Argentino': 58, 'Copa Premio Honor Uruguayo': 59, 'Copa Ramón Castilla': 60, 'Copa Rio Branco': 61, 'Copa Roca': 62, 'Copa del Pacífico': 63, 'Cup of Ancient Civilizations': 64, 'Cyprus International Tournament': 65, 'Dakar Tournament': 66, 'Dragon Cup': 67, 'Dunhill Cup': 68, 'Dynasty Cup': 69, 'EAFF Championship': 70, 'ELF Cup': 71, 'East Asian Games': 72, 'FIFA 75th Anniversary Cup': 73, 'FIFA World Cup': 74, 'FIFA World Cup qualification': 75, 'FIFI Wild Cup': 76, 'Four Nations Tournament': 77, 'Friendly': 78, 'GaNEFo': 79, 'Gold Cup': 80, 'Gold Cup qualification': 81, 'Great Wall Cup': 82, 'Guangzhou International Friendship Tournament': 83, 'Gulf Cup': 84, 'Hungary Heritage Cup': 85, 'Indonesia Tournament': 86, 'Inter Games Football Tournament': 87, 'Intercontinental Cup': 88, 'Island Games': 89, 'Joe Robbie Cup': 90, 'Jordan International Tournament': 91, 'King Hassan II Tournament': 92, \"King's Cup\": 93, 'Kirin Challenge Cup': 94, 'Kirin Cup': 95, 'Korea Cup': 96, 'Kuneitra Cup': 97, 'Lunar New Year Cup': 98, \"MSG Prime Minister's Cup\": 99, 'Mahinda Rajapaksa Cup': 100, 'Malta International Tournament': 101, 'Marlboro Cup': 102, 'Matthews Cup': 103, 'Mauritius Four Nations Cup': 104, 'Merdeka Tournament': 105, 'Merlion Cup': 106, 'Miami Cup': 107, 'Millennium Cup': 108, 'Mundialito': 109, 'Muratti Vase': 110, 'NAFC Championship': 111, 'NAFU Championship': 112, 'Nations Cup': 113, 'Navruz Cup': 114, 'Nehru Cup': 115, 'Niamh Challenge Cup': 116, 'Nile Basin Tournament': 117, 'Nordic Championship': 118, 'OSN Cup': 119, 'Oceania Nations Cup': 120, 'Oceania Nations Cup qualification': 121, 'Olympic Games': 122, 'Pacific Games': 123, 'Pacific Mini Games': 124, 'Palestine Cup': 125, 'Pan American Championship': 126, 'Peace Cup': 127, 'Phillip Seaga Cup': 128, \"Prime Minister's Cup\": 129, 'Rous Cup': 130, 'SAFF Cup': 131, 'SKN Football Festival': 132, 'Scania 100 Tournament': 133, 'Simba Tournament': 134, 'South Pacific Games': 135, 'Southeast Asian Games': 136, 'Southeast Asian Peninsular Games': 137, 'Superclásico de las Américas': 138, 'TIFOCO Tournament': 139, 'Three Nations Cup': 140, 'Tournament Burkina Faso': 141, 'Tournoi de France': 142, 'Tri Nation Tournament': 143, 'Tynwald Hill Tournament': 144, 'UDEAC Cup': 145, 'UEFA Euro': 146, 'UEFA Euro qualification': 147, 'UEFA Nations League': 148, 'UNCAF Cup': 149, 'UNIFFAC Cup': 150, 'USA Cup': 151, 'United Arab Emirates Friendship Tournament': 152, 'VFF Cup': 153, 'Vietnam Independence Cup': 154, 'Viva World Cup': 155, 'WAFF Championship': 156, 'West African Cup': 157, 'Windward Islands Tournament': 158, 'World Unity Cup': 159, 'Évence Coppée Trophy': 160}\n"
     ]
    }
   ],
   "source": [
    "\n",
    "\n",
    "unq_value_torn=np.unique(df_train['tournament'].values)\n",
    "tournament_dict = create_country_dict(unq_value_torn)\n",
    "print(tournament_dict)"
   ]
  },
  {
   "cell_type": "code",
   "execution_count": 208,
   "metadata": {},
   "outputs": [
    {
     "data": {
      "text/html": [
       "<div>\n",
       "<style scoped>\n",
       "    .dataframe tbody tr th:only-of-type {\n",
       "        vertical-align: middle;\n",
       "    }\n",
       "\n",
       "    .dataframe tbody tr th {\n",
       "        vertical-align: top;\n",
       "    }\n",
       "\n",
       "    .dataframe thead th {\n",
       "        text-align: right;\n",
       "    }\n",
       "</style>\n",
       "<table border=\"1\" class=\"dataframe\">\n",
       "  <thead>\n",
       "    <tr style=\"text-align: right;\">\n",
       "      <th></th>\n",
       "      <th>home_team</th>\n",
       "      <th>away_team</th>\n",
       "      <th>tournament</th>\n",
       "      <th>country</th>\n",
       "      <th>neutral</th>\n",
       "      <th>Month</th>\n",
       "    </tr>\n",
       "  </thead>\n",
       "  <tbody>\n",
       "    <tr>\n",
       "      <th>0</th>\n",
       "      <td>36</td>\n",
       "      <td>189.0</td>\n",
       "      <td>78</td>\n",
       "      <td>157.0</td>\n",
       "      <td>True</td>\n",
       "      <td>2</td>\n",
       "    </tr>\n",
       "    <tr>\n",
       "      <th>1</th>\n",
       "      <td>232</td>\n",
       "      <td>249.0</td>\n",
       "      <td>74</td>\n",
       "      <td>269.0</td>\n",
       "      <td>True</td>\n",
       "      <td>5</td>\n",
       "    </tr>\n",
       "    <tr>\n",
       "      <th>2</th>\n",
       "      <td>278</td>\n",
       "      <td>8.0</td>\n",
       "      <td>78</td>\n",
       "      <td>278.0</td>\n",
       "      <td>False</td>\n",
       "      <td>6</td>\n",
       "    </tr>\n",
       "    <tr>\n",
       "      <th>3</th>\n",
       "      <td>115</td>\n",
       "      <td>28.0</td>\n",
       "      <td>75</td>\n",
       "      <td>115.0</td>\n",
       "      <td>False</td>\n",
       "      <td>8</td>\n",
       "    </tr>\n",
       "    <tr>\n",
       "      <th>4</th>\n",
       "      <td>163</td>\n",
       "      <td>27.0</td>\n",
       "      <td>78</td>\n",
       "      <td>163.0</td>\n",
       "      <td>False</td>\n",
       "      <td>10</td>\n",
       "    </tr>\n",
       "    <tr>\n",
       "      <th>...</th>\n",
       "      <td>...</td>\n",
       "      <td>...</td>\n",
       "      <td>...</td>\n",
       "      <td>...</td>\n",
       "      <td>...</td>\n",
       "      <td>...</td>\n",
       "    </tr>\n",
       "    <tr>\n",
       "      <th>41655</th>\n",
       "      <td>306</td>\n",
       "      <td>217.0</td>\n",
       "      <td>75</td>\n",
       "      <td>306.0</td>\n",
       "      <td>False</td>\n",
       "      <td>0</td>\n",
       "    </tr>\n",
       "    <tr>\n",
       "      <th>41656</th>\n",
       "      <td>189</td>\n",
       "      <td>198.0</td>\n",
       "      <td>78</td>\n",
       "      <td>222.0</td>\n",
       "      <td>True</td>\n",
       "      <td>9</td>\n",
       "    </tr>\n",
       "    <tr>\n",
       "      <th>41657</th>\n",
       "      <td>73</td>\n",
       "      <td>150.0</td>\n",
       "      <td>147</td>\n",
       "      <td>73.0</td>\n",
       "      <td>False</td>\n",
       "      <td>10</td>\n",
       "    </tr>\n",
       "    <tr>\n",
       "      <th>41658</th>\n",
       "      <td>151</td>\n",
       "      <td>280.0</td>\n",
       "      <td>75</td>\n",
       "      <td>151.0</td>\n",
       "      <td>False</td>\n",
       "      <td>5</td>\n",
       "    </tr>\n",
       "    <tr>\n",
       "      <th>41659</th>\n",
       "      <td>27</td>\n",
       "      <td>193.0</td>\n",
       "      <td>78</td>\n",
       "      <td>27.0</td>\n",
       "      <td>False</td>\n",
       "      <td>4</td>\n",
       "    </tr>\n",
       "  </tbody>\n",
       "</table>\n",
       "<p>41660 rows × 6 columns</p>\n",
       "</div>"
      ],
      "text/plain": [
       "       home_team  away_team  tournament  country  neutral  Month\n",
       "0             36      189.0          78    157.0     True      2\n",
       "1            232      249.0          74    269.0     True      5\n",
       "2            278        8.0          78    278.0    False      6\n",
       "3            115       28.0          75    115.0    False      8\n",
       "4            163       27.0          78    163.0    False     10\n",
       "...          ...        ...         ...      ...      ...    ...\n",
       "41655        306      217.0          75    306.0    False      0\n",
       "41656        189      198.0          78    222.0     True      9\n",
       "41657         73      150.0         147     73.0    False     10\n",
       "41658        151      280.0          75    151.0    False      5\n",
       "41659         27      193.0          78     27.0    False      4\n",
       "\n",
       "[41660 rows x 6 columns]"
      ]
     },
     "execution_count": 208,
     "metadata": {},
     "output_type": "execute_result"
    }
   ],
   "source": [
    "df_train['tournament'] = df_train['tournament'].map(tournament_dict)\n",
    "df_train"
   ]
  },
  {
   "cell_type": "code",
   "execution_count": 209,
   "metadata": {},
   "outputs": [
    {
     "name": "stdout",
     "output_type": "stream",
     "text": [
      "{False: 0, True: 1}\n"
     ]
    }
   ],
   "source": [
    "unq_value_neutral=np.unique(df_train['neutral'].values)\n",
    "neutral_dict = create_country_dict(unq_value_neutral)\n",
    "print(neutral_dict)"
   ]
  },
  {
   "cell_type": "code",
   "execution_count": 210,
   "metadata": {},
   "outputs": [
    {
     "data": {
      "text/html": [
       "<div>\n",
       "<style scoped>\n",
       "    .dataframe tbody tr th:only-of-type {\n",
       "        vertical-align: middle;\n",
       "    }\n",
       "\n",
       "    .dataframe tbody tr th {\n",
       "        vertical-align: top;\n",
       "    }\n",
       "\n",
       "    .dataframe thead th {\n",
       "        text-align: right;\n",
       "    }\n",
       "</style>\n",
       "<table border=\"1\" class=\"dataframe\">\n",
       "  <thead>\n",
       "    <tr style=\"text-align: right;\">\n",
       "      <th></th>\n",
       "      <th>home_team</th>\n",
       "      <th>away_team</th>\n",
       "      <th>tournament</th>\n",
       "      <th>country</th>\n",
       "      <th>neutral</th>\n",
       "      <th>Month</th>\n",
       "    </tr>\n",
       "  </thead>\n",
       "  <tbody>\n",
       "    <tr>\n",
       "      <th>0</th>\n",
       "      <td>36</td>\n",
       "      <td>189.0</td>\n",
       "      <td>78</td>\n",
       "      <td>157.0</td>\n",
       "      <td>1</td>\n",
       "      <td>2</td>\n",
       "    </tr>\n",
       "    <tr>\n",
       "      <th>1</th>\n",
       "      <td>232</td>\n",
       "      <td>249.0</td>\n",
       "      <td>74</td>\n",
       "      <td>269.0</td>\n",
       "      <td>1</td>\n",
       "      <td>5</td>\n",
       "    </tr>\n",
       "    <tr>\n",
       "      <th>2</th>\n",
       "      <td>278</td>\n",
       "      <td>8.0</td>\n",
       "      <td>78</td>\n",
       "      <td>278.0</td>\n",
       "      <td>0</td>\n",
       "      <td>6</td>\n",
       "    </tr>\n",
       "    <tr>\n",
       "      <th>3</th>\n",
       "      <td>115</td>\n",
       "      <td>28.0</td>\n",
       "      <td>75</td>\n",
       "      <td>115.0</td>\n",
       "      <td>0</td>\n",
       "      <td>8</td>\n",
       "    </tr>\n",
       "    <tr>\n",
       "      <th>4</th>\n",
       "      <td>163</td>\n",
       "      <td>27.0</td>\n",
       "      <td>78</td>\n",
       "      <td>163.0</td>\n",
       "      <td>0</td>\n",
       "      <td>10</td>\n",
       "    </tr>\n",
       "    <tr>\n",
       "      <th>...</th>\n",
       "      <td>...</td>\n",
       "      <td>...</td>\n",
       "      <td>...</td>\n",
       "      <td>...</td>\n",
       "      <td>...</td>\n",
       "      <td>...</td>\n",
       "    </tr>\n",
       "    <tr>\n",
       "      <th>41655</th>\n",
       "      <td>306</td>\n",
       "      <td>217.0</td>\n",
       "      <td>75</td>\n",
       "      <td>306.0</td>\n",
       "      <td>0</td>\n",
       "      <td>0</td>\n",
       "    </tr>\n",
       "    <tr>\n",
       "      <th>41656</th>\n",
       "      <td>189</td>\n",
       "      <td>198.0</td>\n",
       "      <td>78</td>\n",
       "      <td>222.0</td>\n",
       "      <td>1</td>\n",
       "      <td>9</td>\n",
       "    </tr>\n",
       "    <tr>\n",
       "      <th>41657</th>\n",
       "      <td>73</td>\n",
       "      <td>150.0</td>\n",
       "      <td>147</td>\n",
       "      <td>73.0</td>\n",
       "      <td>0</td>\n",
       "      <td>10</td>\n",
       "    </tr>\n",
       "    <tr>\n",
       "      <th>41658</th>\n",
       "      <td>151</td>\n",
       "      <td>280.0</td>\n",
       "      <td>75</td>\n",
       "      <td>151.0</td>\n",
       "      <td>0</td>\n",
       "      <td>5</td>\n",
       "    </tr>\n",
       "    <tr>\n",
       "      <th>41659</th>\n",
       "      <td>27</td>\n",
       "      <td>193.0</td>\n",
       "      <td>78</td>\n",
       "      <td>27.0</td>\n",
       "      <td>0</td>\n",
       "      <td>4</td>\n",
       "    </tr>\n",
       "  </tbody>\n",
       "</table>\n",
       "<p>41660 rows × 6 columns</p>\n",
       "</div>"
      ],
      "text/plain": [
       "       home_team  away_team  tournament  country  neutral  Month\n",
       "0             36      189.0          78    157.0        1      2\n",
       "1            232      249.0          74    269.0        1      5\n",
       "2            278        8.0          78    278.0        0      6\n",
       "3            115       28.0          75    115.0        0      8\n",
       "4            163       27.0          78    163.0        0     10\n",
       "...          ...        ...         ...      ...      ...    ...\n",
       "41655        306      217.0          75    306.0        0      0\n",
       "41656        189      198.0          78    222.0        1      9\n",
       "41657         73      150.0         147     73.0        0     10\n",
       "41658        151      280.0          75    151.0        0      5\n",
       "41659         27      193.0          78     27.0        0      4\n",
       "\n",
       "[41660 rows x 6 columns]"
      ]
     },
     "execution_count": 210,
     "metadata": {},
     "output_type": "execute_result"
    }
   ],
   "source": [
    "\n",
    "df_train['neutral'] = df_train['neutral'].map(neutral_dict)\n",
    "df_train\n"
   ]
  },
  {
   "cell_type": "code",
   "execution_count": 211,
   "metadata": {},
   "outputs": [
    {
     "data": {
      "text/plain": [
       "home_team       0\n",
       "away_team      25\n",
       "tournament      0\n",
       "country       732\n",
       "neutral         0\n",
       "Month           0\n",
       "dtype: int64"
      ]
     },
     "execution_count": 211,
     "metadata": {},
     "output_type": "execute_result"
    }
   ],
   "source": [
    "df_train.isnull().sum()"
   ]
  },
  {
   "cell_type": "code",
   "execution_count": 212,
   "metadata": {},
   "outputs": [
    {
     "name": "stdout",
     "output_type": "stream",
     "text": [
      "757\n",
      "[30720, 24580, 5, 10246, 36870, 38916, 6155, 12299, 40973, 14, 36879, 2072, 30748, 28707, 20516, 36901, 18470, 40997, 51, 14389]\n"
     ]
    },
    {
     "name": "stderr",
     "output_type": "stream",
     "text": [
      "C:\\Users\\nagab\\AppData\\Local\\Temp\\ipykernel_31164\\1510978645.py:3: FutureWarning: elementwise comparison failed; returning scalar instead, but in the future will perform elementwise comparison\n",
      "  null_indices = np.where(np.isnan(df_train[i].values) | (df_train[i].values == ''))[0]\n"
     ]
    }
   ],
   "source": [
    "null_index=[]\n",
    "for i in df_train.columns:\n",
    "    null_indices = np.where(np.isnan(df_train[i].values) | (df_train[i].values == ''))[0]\n",
    "    null_index= set(null_index).union(set(null_indices))\n",
    "    null_index=list(null_index)\n",
    "print(len(null_index))\n",
    "print(null_index[:20])\n",
    "\n",
    "    "
   ]
  },
  {
   "cell_type": "code",
   "execution_count": 213,
   "metadata": {},
   "outputs": [
    {
     "data": {
      "text/plain": [
       "[5, 14, 51, 176, 185, 189, 248, 401, 488, 540]"
      ]
     },
     "execution_count": 213,
     "metadata": {},
     "output_type": "execute_result"
    }
   ],
   "source": [
    "null_index.sort()\n",
    "null_index[:10]"
   ]
  },
  {
   "cell_type": "code",
   "execution_count": 214,
   "metadata": {},
   "outputs": [],
   "source": [
    "df_train=df_train.drop(null_index)\n",
    "y_train=y_train.drop(null_index)"
   ]
  },
  {
   "cell_type": "code",
   "execution_count": 215,
   "metadata": {},
   "outputs": [
    {
     "name": "stdout",
     "output_type": "stream",
     "text": [
      "(40903, 6) (40903, 1)\n"
     ]
    }
   ],
   "source": [
    "print(df_train.shape,y_train.shape)"
   ]
  },
  {
   "cell_type": "code",
   "execution_count": 216,
   "metadata": {},
   "outputs": [
    {
     "data": {
      "text/plain": [
       "home_team     0\n",
       "away_team     0\n",
       "tournament    0\n",
       "country       0\n",
       "neutral       0\n",
       "Month         0\n",
       "dtype: int64"
      ]
     },
     "execution_count": 216,
     "metadata": {},
     "output_type": "execute_result"
    }
   ],
   "source": [
    "df_train.isnull().sum()"
   ]
  },
  {
   "cell_type": "code",
   "execution_count": 59,
   "metadata": {},
   "outputs": [
    {
     "data": {
      "text/plain": [
       "result    0\n",
       "dtype: int64"
      ]
     },
     "execution_count": 59,
     "metadata": {},
     "output_type": "execute_result"
    }
   ],
   "source": [
    "y_train.isnull().sum()"
   ]
  },
  {
   "cell_type": "code",
   "execution_count": 219,
   "metadata": {},
   "outputs": [],
   "source": [
    "df_train=df_train.drop(columns=['tournament'])"
   ]
  },
  {
   "cell_type": "code",
   "execution_count": 220,
   "metadata": {},
   "outputs": [
    {
     "name": "stdout",
     "output_type": "stream",
     "text": [
      "(40903, 4) (40903, 1)\n",
      "   home_team  away_team  country  neutral\n",
      "0         36      189.0    157.0        1\n",
      "1        232      249.0    269.0        1\n",
      "2        278        8.0    278.0        0\n",
      "3        115       28.0    115.0        0\n",
      "4        163       27.0    163.0        0\n",
      "   result\n",
      "0       1\n",
      "1       0\n",
      "2       0\n",
      "3       1\n",
      "4       0\n"
     ]
    }
   ],
   "source": [
    "\n",
    "print(df_train.shape,y_train.shape)\n",
    "print(df_train.head(5))\n",
    "print(y_train.head(5))"
   ]
  },
  {
   "cell_type": "code",
   "execution_count": 113,
   "metadata": {},
   "outputs": [],
   "source": [
    "from sklearn.model_selection import train_test_split\n",
    "from sklearn.ensemble import RandomForestClassifier\n",
    "from sklearn.linear_model import LogisticRegression\n",
    "from sklearn.svm import SVC\n",
    "from sklearn.metrics import accuracy_score"
   ]
  },
  {
   "cell_type": "code",
   "execution_count": 221,
   "metadata": {},
   "outputs": [],
   "source": [
    "from sklearn.model_selection import train_test_split\n",
    "x_Train,x_test,y_Train,y_test=train_test_split(df_train,y_train,test_size=0.25)"
   ]
  },
  {
   "cell_type": "code",
   "execution_count": 225,
   "metadata": {},
   "outputs": [
    {
     "name": "stdout",
     "output_type": "stream",
     "text": [
      "Decision Tree Classifier Accuracy: 0.49462155290436144\n"
     ]
    }
   ],
   "source": [
    "from sklearn.tree import DecisionTreeClassifier\n",
    "from sklearn.model_selection import train_test_split\n",
    "from sklearn.metrics import accuracy_score\n",
    "\n",
    "\n",
    "# Initialize the Decision Tree Classifier\n",
    "decision_tree_classifier = DecisionTreeClassifier(max_depth=4)\n",
    "\n",
    "# Train the classifier\n",
    "decision_tree_classifier.fit(x_Train, y_Train)\n",
    "\n",
    "# Make predictions on the test set\n",
    "predictions = decision_tree_classifier.predict(x_test)\n",
    "\n",
    "# Calculate the accuracy\n",
    "accuracy = accuracy_score(y_test, predictions)\n",
    "\n",
    "print(\"Decision Tree Classifier Accuracy:\", accuracy)\n"
   ]
  },
  {
   "cell_type": "code",
   "execution_count": 229,
   "metadata": {},
   "outputs": [
    {
     "name": "stderr",
     "output_type": "stream",
     "text": [
      "C:\\Users\\nagab\\AppData\\Local\\Temp\\ipykernel_31164\\2227767726.py:10: DataConversionWarning: A column-vector y was passed when a 1d array was expected. Please change the shape of y to (n_samples,), for example using ravel().\n",
      "  random_forest_classifier.fit(x_Train, y_Train)\n"
     ]
    },
    {
     "name": "stdout",
     "output_type": "stream",
     "text": [
      "Random Forest Classifier Accuracy: 0.5012712693135146\n"
     ]
    }
   ],
   "source": [
    "from sklearn.ensemble import RandomForestClassifier\n",
    "from sklearn.model_selection import train_test_split\n",
    "from sklearn.metrics import accuracy_score\n",
    "\n",
    "\n",
    "# Initialize the Random Forest Classifier with specific parameters\n",
    "random_forest_classifier = RandomForestClassifier(n_estimators=30, max_depth=5, random_state=42)  # Example parameters\n",
    "\n",
    "# Train the classifier\n",
    "random_forest_classifier.fit(x_Train, y_Train)\n",
    "\n",
    "# Make predictions on the test set\n",
    "predictions = random_forest_classifier.predict(x_test)\n",
    "\n",
    "# Calculate the accuracy\n",
    "accuracy = accuracy_score(y_test, predictions)\n",
    "\n",
    "print(\"Random Forest Classifier Accuracy:\", accuracy)\n"
   ]
  },
  {
   "cell_type": "code",
   "execution_count": 32,
   "metadata": {},
   "outputs": [
    {
     "data": {
      "text/html": [
       "<div>\n",
       "<style scoped>\n",
       "    .dataframe tbody tr th:only-of-type {\n",
       "        vertical-align: middle;\n",
       "    }\n",
       "\n",
       "    .dataframe tbody tr th {\n",
       "        vertical-align: top;\n",
       "    }\n",
       "\n",
       "    .dataframe thead th {\n",
       "        text-align: right;\n",
       "    }\n",
       "</style>\n",
       "<table border=\"1\" class=\"dataframe\">\n",
       "  <thead>\n",
       "    <tr style=\"text-align: right;\">\n",
       "      <th></th>\n",
       "      <th>date</th>\n",
       "      <th>home_team</th>\n",
       "      <th>away_team</th>\n",
       "      <th>tournament</th>\n",
       "      <th>city</th>\n",
       "      <th>country</th>\n",
       "      <th>neutral</th>\n",
       "    </tr>\n",
       "  </thead>\n",
       "  <tbody>\n",
       "    <tr>\n",
       "      <th>0</th>\n",
       "      <td>2023-09-06</td>\n",
       "      <td>Macau</td>\n",
       "      <td>Bhutan</td>\n",
       "      <td>Friendly</td>\n",
       "      <td>Taipa</td>\n",
       "      <td>Macau</td>\n",
       "      <td>False</td>\n",
       "    </tr>\n",
       "    <tr>\n",
       "      <th>1</th>\n",
       "      <td>1966-08-13</td>\n",
       "      <td>Malaysia</td>\n",
       "      <td>Vietnam Republic</td>\n",
       "      <td>Merdeka Tournament</td>\n",
       "      <td>Kuala Lumpur</td>\n",
       "      <td>Malaysia</td>\n",
       "      <td>False</td>\n",
       "    </tr>\n",
       "    <tr>\n",
       "      <th>2</th>\n",
       "      <td>1951-09-02</td>\n",
       "      <td>Suriname</td>\n",
       "      <td>Guyana</td>\n",
       "      <td>Friendly</td>\n",
       "      <td>Paramaribo</td>\n",
       "      <td>Suriname</td>\n",
       "      <td>False</td>\n",
       "    </tr>\n",
       "    <tr>\n",
       "      <th>3</th>\n",
       "      <td>2012-08-22</td>\n",
       "      <td>India</td>\n",
       "      <td>Syria</td>\n",
       "      <td>Nehru Cup</td>\n",
       "      <td>New Delhi</td>\n",
       "      <td>India</td>\n",
       "      <td>False</td>\n",
       "    </tr>\n",
       "    <tr>\n",
       "      <th>4</th>\n",
       "      <td>1973-12-15</td>\n",
       "      <td>Thailand</td>\n",
       "      <td>Myanmar</td>\n",
       "      <td>King's Cup</td>\n",
       "      <td>Bangkok</td>\n",
       "      <td>Thailand</td>\n",
       "      <td>False</td>\n",
       "    </tr>\n",
       "  </tbody>\n",
       "</table>\n",
       "</div>"
      ],
      "text/plain": [
       "         date home_team         away_team          tournament          city   \n",
       "0  2023-09-06     Macau            Bhutan            Friendly         Taipa  \\\n",
       "1  1966-08-13  Malaysia  Vietnam Republic  Merdeka Tournament  Kuala Lumpur   \n",
       "2  1951-09-02  Suriname            Guyana            Friendly    Paramaribo   \n",
       "3  2012-08-22     India             Syria           Nehru Cup     New Delhi   \n",
       "4  1973-12-15  Thailand           Myanmar          King's Cup       Bangkok   \n",
       "\n",
       "    country  neutral  \n",
       "0     Macau    False  \n",
       "1  Malaysia    False  \n",
       "2  Suriname    False  \n",
       "3     India    False  \n",
       "4  Thailand    False  "
      ]
     },
     "execution_count": 32,
     "metadata": {},
     "output_type": "execute_result"
    }
   ],
   "source": [
    "rd=pd.read_csv(\"A:\\deeplearning\\hackathon\\X_test.csv\")\n",
    "df_test=pd.DataFrame(rd)\n",
    "df_test.head(5)"
   ]
  },
  {
   "cell_type": "code",
   "execution_count": 33,
   "metadata": {},
   "outputs": [
    {
     "data": {
      "text/plain": [
       "(4629, 7)"
      ]
     },
     "execution_count": 33,
     "metadata": {},
     "output_type": "execute_result"
    }
   ],
   "source": [
    "df_test.shape"
   ]
  },
  {
   "cell_type": "code",
   "execution_count": 34,
   "metadata": {},
   "outputs": [
    {
     "name": "stdout",
     "output_type": "stream",
     "text": [
      "date 3394\n",
      "home_team 270\n",
      "away_team 273\n",
      "tournament 127\n",
      "city 917\n",
      "country 245\n",
      "neutral 2\n"
     ]
    }
   ],
   "source": [
    "columns=df_test.columns \n",
    "unique_values=[]\n",
    "for i in columns:\n",
    "    values=df_test[i].values \n",
    "    unq_values=np.unique(values)\n",
    "    unique_values.append(len(unq_values))\n",
    "\n",
    "for i,j in zip(columns,unique_values):\n",
    "    print(i,j)\n"
   ]
  },
  {
   "cell_type": "code",
   "execution_count": 35,
   "metadata": {},
   "outputs": [
    {
     "data": {
      "text/plain": [
       "date          0\n",
       "home_team     0\n",
       "away_team     0\n",
       "tournament    0\n",
       "city          0\n",
       "country       0\n",
       "neutral       0\n",
       "dtype: int64"
      ]
     },
     "execution_count": 35,
     "metadata": {},
     "output_type": "execute_result"
    }
   ],
   "source": [
    "df_test.isnull().sum()"
   ]
  }
 ],
 "metadata": {
  "kernelspec": {
   "display_name": "Python 3",
   "language": "python",
   "name": "python3"
  },
  "language_info": {
   "codemirror_mode": {
    "name": "ipython",
    "version": 3
   },
   "file_extension": ".py",
   "mimetype": "text/x-python",
   "name": "python",
   "nbconvert_exporter": "python",
   "pygments_lexer": "ipython3",
   "version": "3.10.11"
  }
 },
 "nbformat": 4,
 "nbformat_minor": 2
}
